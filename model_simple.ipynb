{
 "cells": [
  {
   "cell_type": "code",
   "execution_count": 1,
   "metadata": {},
   "outputs": [
    {
     "name": "stdout",
     "output_type": "stream",
     "text": [
      "batch 0, Loss : 4.238282680511475\n",
      "batch 1, Loss : 3.709434747695923\n",
      "batch 2, Loss : 3.471202850341797\n",
      "batch 3, Loss : 3.344341278076172\n",
      "batch 4, Loss : 3.247248649597168\n",
      "batch 5, Loss : 3.2148332595825195\n",
      "batch 6, Loss : 3.174457311630249\n",
      "batch 7, Loss : 3.1223020553588867\n",
      "batch 8, Loss : 3.058224678039551\n",
      "batch 9, Loss : 3.0045411586761475\n",
      "batch 10, Loss : 2.9548046588897705\n",
      "batch 11, Loss : 2.978865146636963\n",
      "batch 12, Loss : 2.9943363666534424\n",
      "batch 13, Loss : 2.9994325637817383\n",
      "batch 14, Loss : 2.9900059700012207\n",
      "batch 15, Loss : 2.9480791091918945\n",
      "batch 16, Loss : 2.8881051540374756\n",
      "batch 17, Loss : 2.8533294200897217\n",
      "batch 18, Loss : 2.82030987739563\n",
      "batch 19, Loss : 2.80525279045105\n"
     ]
    }
   ],
   "source": [
    "from model_simple import train_model\n",
    "\n",
    "B = 64\n",
    "N = 256 # context of up to 256 previous characters\n",
    "L = 6\n",
    "h = 6\n",
    "d = 384\n",
    "\n",
    "model = train_model(L, B, N, d, h)"
   ]
  },
  {
   "cell_type": "code",
   "execution_count": 2,
   "metadata": {},
   "outputs": [
    {
     "name": "stderr",
     "output_type": "stream",
     "text": [
      "/home/gordon/Documents/edu/gordon_ms/Sem3/DeepLearning/Shakespeak/model_simple.py:198: UserWarning: To copy construct from a tensor, it is recommended to use sourceTensor.clone().detach() or sourceTensor.clone().detach().requires_grad_(True), rather than torch.tensor(sourceTensor).\n",
      "  new_c = torch.tensor(char_id).reshape(shape=(1, 1))\n"
     ]
    }
   ],
   "source": [
    "from parsing.CharDataSet import getLoaderDataset\n",
    "\n",
    "model.eval()\n",
    "data_loader, tokenized_data = getLoaderDataset(N, B, \"./datasets/shakespear_corpus.txt\")\n",
    "idx = tokenized_data.encode(\"Oh God, Oh God !\")\n",
    "gen = model.generate(idx, 50)"
   ]
  },
  {
   "cell_type": "code",
   "execution_count": 3,
   "metadata": {},
   "outputs": [
    {
     "name": "stdout",
     "output_type": "stream",
     "text": [
      "tensor([27., 46.,  1., 19., 53., 42.,  6.,  1., 27., 46.,  1., 19., 53., 42.,\n",
      "         1.,  2., 53., 52., 53., 52., 53., 52., 53., 52., 53., 52., 53., 52.,\n",
      "        53., 52., 53., 52., 53., 52., 53., 52., 53., 52., 53., 52., 53., 52.,\n",
      "        53., 52., 53., 52., 53., 52., 53., 52., 53., 52., 53., 52., 53., 52.,\n",
      "        53., 52., 53., 52., 53., 52., 53., 52., 53., 52.])\n",
      "Oh God, Oh God !ononononononononononononononononononononononononon\n"
     ]
    }
   ],
   "source": [
    "print(gen)\n",
    "print(tokenized_data.decode(gen))"
   ]
  },
  {
   "cell_type": "code",
   "execution_count": null,
   "metadata": {},
   "outputs": [],
   "source": []
  }
 ],
 "metadata": {
  "kernelspec": {
   "display_name": "dl",
   "language": "python",
   "name": "python3"
  },
  "language_info": {
   "codemirror_mode": {
    "name": "ipython",
    "version": 3
   },
   "file_extension": ".py",
   "mimetype": "text/x-python",
   "name": "python",
   "nbconvert_exporter": "python",
   "pygments_lexer": "ipython3",
   "version": "3.11.5"
  }
 },
 "nbformat": 4,
 "nbformat_minor": 2
}
