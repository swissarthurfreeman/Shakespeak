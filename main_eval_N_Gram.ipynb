{
 "cells": [
  {
   "cell_type": "code",
   "execution_count": 1,
   "metadata": {},
   "outputs": [],
   "source": [
    "import re\n",
    "import random\n",
    "from N_gram import BigramLanguageModel"
   ]
  },
  {
   "cell_type": "markdown",
   "metadata": {},
   "source": [
    "#### Parameters"
   ]
  },
  {
   "cell_type": "code",
   "execution_count": 2,
   "metadata": {},
   "outputs": [],
   "source": [
    "dataset = './datasets/shakespear_corpus.txt'"
   ]
  },
  {
   "cell_type": "code",
   "execution_count": 3,
   "metadata": {},
   "outputs": [],
   "source": [
    "bigram_model = BigramLanguageModel(dataset)"
   ]
  },
  {
   "cell_type": "code",
   "execution_count": 4,
   "metadata": {},
   "outputs": [
    {
     "name": "stdout",
     "output_type": "stream",
     "text": [
      "29\n",
      "{'a', 's', '.', 'd', 'u', ' ', 'o', 'p', 'i', 'v', 'z', 'l', 'x', '-', 'j', 't', 'r', 'e', 'y', 'g', 'n', 'h', 'c', 'w', 'k', 'f', 'm', 'q', 'b'}\n"
     ]
    }
   ],
   "source": [
    "V = bigram_model.get_vocab()\n",
    "print(len(V))\n",
    "print(V)"
   ]
  },
  {
   "cell_type": "code",
   "execution_count": 5,
   "metadata": {},
   "outputs": [],
   "source": [
    "bigram_model.train()"
   ]
  },
  {
   "cell_type": "code",
   "execution_count": 6,
   "metadata": {},
   "outputs": [
    {
     "ename": "NameError",
     "evalue": "name 'perplexity_log' is not defined",
     "output_type": "error",
     "traceback": [
      "\u001b[1;31m---------------------------------------------------------------------------\u001b[0m",
      "\u001b[1;31mNameError\u001b[0m                                 Traceback (most recent call last)",
      "Cell \u001b[1;32mIn[6], line 1\u001b[0m\n\u001b[1;32m----> 1\u001b[0m \u001b[38;5;28mprint\u001b[39m(\u001b[43mbigram_model\u001b[49m\u001b[38;5;241;43m.\u001b[39;49m\u001b[43mevaluate\u001b[49m\u001b[43m(\u001b[49m\u001b[43m)\u001b[49m)\n",
      "File \u001b[1;32mg:\\UNIGE\\Master\\semestre3\\DL\\Shakespeak\\N_gram.py:56\u001b[0m, in \u001b[0;36mBigramLanguageModel.evaluate\u001b[1;34m(self)\u001b[0m\n\u001b[0;32m     54\u001b[0m perplexity \u001b[38;5;241m=\u001b[39m math\u001b[38;5;241m.\u001b[39mexp(total_loss \u001b[38;5;241m/\u001b[39m \u001b[38;5;28mlen\u001b[39m(\u001b[38;5;28mself\u001b[39m\u001b[38;5;241m.\u001b[39mtrain_characters))\n\u001b[0;32m     55\u001b[0m \u001b[38;5;66;03m# Calculer la perplexité \u001b[39;00m\n\u001b[1;32m---> 56\u001b[0m perplexity \u001b[38;5;241m=\u001b[39m math\u001b[38;5;241m.\u001b[39mexp(\u001b[43mperplexity_log\u001b[49m)\n\u001b[0;32m     57\u001b[0m \u001b[38;5;28;01mreturn\u001b[39;00m perplexity\n",
      "\u001b[1;31mNameError\u001b[0m: name 'perplexity_log' is not defined"
     ]
    }
   ],
   "source": [
    "print(bigram_model.evaluate())"
   ]
  },
  {
   "cell_type": "code",
   "execution_count": null,
   "metadata": {},
   "outputs": [
    {
     "name": "stdout",
     "output_type": "stream",
     "text": [
      "['W i n e n c a r e n e g h   m o o   h e   b o f o   a n i f o u   e   o u t   t   t u k g a y o y  . ']\n"
     ]
    }
   ],
   "source": [
    "start_char = 'a'\n",
    "generated_text = []\n",
    "for i in range(1):\n",
    "    generated_text.append(bigram_model.generate_text(start_char))\n",
    "\n",
    "\n",
    "print(generated_text)"
   ]
  },
  {
   "cell_type": "code",
   "execution_count": null,
   "metadata": {},
   "outputs": [],
   "source": [
    "\n"
   ]
  }
 ],
 "metadata": {
  "kernelspec": {
   "display_name": "Python 3",
   "language": "python",
   "name": "python3"
  },
  "language_info": {
   "codemirror_mode": {
    "name": "ipython",
    "version": 3
   },
   "file_extension": ".py",
   "mimetype": "text/x-python",
   "name": "python",
   "nbconvert_exporter": "python",
   "pygments_lexer": "ipython3",
   "version": "3.11.7"
  }
 },
 "nbformat": 4,
 "nbformat_minor": 2
}
