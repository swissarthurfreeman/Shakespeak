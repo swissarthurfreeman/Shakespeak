{
 "cells": [
  {
   "cell_type": "code",
   "execution_count": 1,
   "metadata": {},
   "outputs": [],
   "source": [
    "import re\n",
    "import random\n",
    "from N_gram import BigramLanguageModel"
   ]
  },
  {
   "cell_type": "markdown",
   "metadata": {},
   "source": [
    "#### Parameters\n"
   ]
  },
  {
   "cell_type": "code",
   "execution_count": 2,
   "metadata": {},
   "outputs": [],
   "source": [
    "dataset = \"./datasets/shakespear_corpus.txt\""
   ]
  },
  {
   "cell_type": "code",
   "execution_count": 3,
   "metadata": {},
   "outputs": [],
   "source": [
    "bigram_model = BigramLanguageModel(dataset)"
   ]
  },
  {
   "cell_type": "code",
   "execution_count": 4,
   "metadata": {},
   "outputs": [
    {
     "name": "stdout",
     "output_type": "stream",
     "text": [
      "65\n",
      "{'A', 'T', 'P', 'n', 'k', 'j', 'f', 'B', 'R', 'i', ':', '-', ' ', 'J', 'Q', 'r', \"'\", 'O', 'H', 'U', 'v', '\\n', 'o', 'a', 'w', 'g', ';', 'h', '&', 'C', ',', 'N', 'G', 'I', 'W', 'E', 'm', '.', 'p', 'e', 's', 'd', 'S', 'L', 'x', '$', 'u', 'Y', 'D', 'F', '?', 'b', 'Z', '!', '3', 'q', 'y', 'M', 'V', 'K', 't', 'X', 'l', 'c', 'z'}\n"
     ]
    }
   ],
   "source": [
    "V = bigram_model.get_vocab()\n",
    "print(len(V))\n",
    "print(V)"
   ]
  },
  {
   "cell_type": "code",
   "execution_count": 5,
   "metadata": {},
   "outputs": [],
   "source": [
    "bigram_model.train()"
   ]
  },
  {
   "cell_type": "code",
   "execution_count": 6,
   "metadata": {},
   "outputs": [
    {
     "name": "stdout",
     "output_type": "stream",
     "text": [
      "Training loss and perplexity :  (2.4519109811727255, 5.471403602361677)\n",
      "Validation loss and perplexity :  (2.5042916071889594, 5.673706834469509)\n"
     ]
    }
   ],
   "source": [
    "print(\"Training loss and perplexity : \", bigram_model.evaluate_train())\n",
    "print(\"Validation loss and perplexity : \", bigram_model.evaluate_validation())"
   ]
  },
  {
   "cell_type": "code",
   "execution_count": 7,
   "metadata": {},
   "outputs": [
    {
     "name": "stdout",
     "output_type": "stream",
     "text": [
      "Validation indices :  0  to  111539\n",
      "train indices : 0 to  0  and  111539  to  1115393\n",
      "Validation indices :  111539  to  223078\n",
      "train indices : 0 to  111539  and  223078  to  1115393\n",
      "Validation indices :  223078  to  334617\n",
      "train indices : 0 to  223078  and  334617  to  1115393\n",
      "Validation indices :  334617  to  446156\n",
      "train indices : 0 to  334617  and  446156  to  1115393\n",
      "Validation indices :  446156  to  557695\n",
      "train indices : 0 to  446156  and  557695  to  1115393\n",
      "Validation indices :  557695  to  669234\n",
      "train indices : 0 to  557695  and  669234  to  1115393\n",
      "Validation indices :  669234  to  780773\n",
      "train indices : 0 to  669234  and  780773  to  1115393\n",
      "Validation indices :  780773  to  892312\n",
      "train indices : 0 to  780773  and  892312  to  1115393\n",
      "Validation indices :  892312  to  1003851\n",
      "train indices : 0 to  892312  and  1003851  to  1115393\n",
      "Validation indices :  1003851  to  1115393\n",
      "train indices : 0 to  1003851  and  1115393  to  1115393\n"
     ]
    }
   ],
   "source": [
    "(\n",
    "    loss_train_mean,\n",
    "    loss_train_var,\n",
    "    perplexity_train_mean,\n",
    "    perplexity_train_var,\n",
    "    loss_validation_mean,\n",
    "    loss_validation_var,\n",
    "    perplexity_validation_mean,\n",
    "    perplexity_validation_var,\n",
    ") = bigram_model.cross_validation()"
   ]
  },
  {
   "cell_type": "code",
   "execution_count": null,
   "metadata": {},
   "outputs": [],
   "source": [
    "bigram_model.save_losses_graph()"
   ]
  },
  {
   "cell_type": "code",
   "execution_count": 8,
   "metadata": {},
   "outputs": [
    {
     "name": "stdout",
     "output_type": "stream",
     "text": [
      "['C e   i s   b e : \\n \\n \\n h a n g e   w o n t   y o u r   t h   t ,   i   w e f e n g o t h e : \\n m y. ']\n"
     ]
    }
   ],
   "source": [
    "start_char = \"a\"\n",
    "generated_text = []\n",
    "for i in range(1):\n",
    "    generated_text.append(bigram_model.generate_text(start_char))\n",
    "\n",
    "\n",
    "print(generated_text)"
   ]
  },
  {
   "cell_type": "code",
   "execution_count": null,
   "metadata": {},
   "outputs": [],
   "source": []
  }
 ],
 "metadata": {
  "kernelspec": {
   "display_name": "Python 3",
   "language": "python",
   "name": "python3"
  },
  "language_info": {
   "codemirror_mode": {
    "name": "ipython",
    "version": 3
   },
   "file_extension": ".py",
   "mimetype": "text/x-python",
   "name": "python",
   "nbconvert_exporter": "python",
   "pygments_lexer": "ipython3",
   "version": "3.11.7"
  }
 },
 "nbformat": 4,
 "nbformat_minor": 2
}
