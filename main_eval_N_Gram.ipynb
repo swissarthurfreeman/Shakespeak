{
 "cells": [
  {
   "cell_type": "code",
   "execution_count": 1,
   "metadata": {},
   "outputs": [],
   "source": [
    "import re\n",
    "import random\n",
    "from N_gram import BigramLanguageModel"
   ]
  },
  {
   "cell_type": "markdown",
   "metadata": {},
   "source": [
    "#### Parameters"
   ]
  },
  {
   "cell_type": "code",
   "execution_count": 2,
   "metadata": {},
   "outputs": [],
   "source": [
    "dataset = './datasets/shakespear_corpus.txt'"
   ]
  },
  {
   "cell_type": "code",
   "execution_count": 3,
   "metadata": {},
   "outputs": [],
   "source": [
    "bigram_model = BigramLanguageModel(dataset)"
   ]
  },
  {
   "cell_type": "code",
   "execution_count": 4,
   "metadata": {},
   "outputs": [
    {
     "name": "stdout",
     "output_type": "stream",
     "text": [
      "65\n",
      "{'3', 'Y', 'T', 'd', 'R', 'c', 'k', 'q', ',', 'D', 'V', 'Z', 'v', 'r', 'B', '$', \"'\", 'o', 'X', 'C', 'P', 'J', 'n', 'h', '.', '\\n', 'G', 'z', '!', 'E', '&', '?', 'x', 'w', 'W', 'b', 's', 'm', 'L', 'e', 'l', 'M', 'j', ' ', 't', 'F', 'a', ':', 'y', 'Q', 'S', 'g', '-', ';', 'A', 'f', 'p', 'i', 'H', 'N', 'U', 'K', 'O', 'u', 'I'}\n"
     ]
    }
   ],
   "source": [
    "V = bigram_model.get_vocab()\n",
    "print(len(V))\n",
    "print(V)"
   ]
  },
  {
   "cell_type": "code",
   "execution_count": 5,
   "metadata": {},
   "outputs": [],
   "source": [
    "bigram_model.train()"
   ]
  },
  {
   "cell_type": "code",
   "execution_count": 6,
   "metadata": {},
   "outputs": [
    {
     "name": "stdout",
     "output_type": "stream",
     "text": [
      "110250.79504307546\n"
     ]
    }
   ],
   "source": [
    "print(bigram_model.evaluate())"
   ]
  },
  {
   "cell_type": "code",
   "execution_count": 7,
   "metadata": {},
   "outputs": [
    {
     "name": "stdout",
     "output_type": "stream",
     "text": [
      "['V e l i p e r   n ? \\n p h e   i k l t l o r y   l a n o   a t   i c o o f a t r u n   h a g a k u r. ']\n"
     ]
    }
   ],
   "source": [
    "start_char = 'a'\n",
    "generated_text = []\n",
    "for i in range(1):\n",
    "    generated_text.append(bigram_model.generate_text(start_char))\n",
    "\n",
    "\n",
    "print(generated_text)"
   ]
  },
  {
   "cell_type": "code",
   "execution_count": null,
   "metadata": {},
   "outputs": [],
   "source": [
    "\n"
   ]
  }
 ],
 "metadata": {
  "kernelspec": {
   "display_name": "Python 3",
   "language": "python",
   "name": "python3"
  },
  "language_info": {
   "codemirror_mode": {
    "name": "ipython",
    "version": 3
   },
   "file_extension": ".py",
   "mimetype": "text/x-python",
   "name": "python",
   "nbconvert_exporter": "python",
   "pygments_lexer": "ipython3",
   "version": "3.11.7"
  }
 },
 "nbformat": 4,
 "nbformat_minor": 2
}
