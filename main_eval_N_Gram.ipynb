{
 "cells": [
  {
   "cell_type": "code",
   "execution_count": 1,
   "metadata": {},
   "outputs": [],
   "source": [
    "import re\n",
    "import random\n",
    "from N_gram import BigramLanguageModel\n",
    "from N_gram import TrigramLanguageModel"
   ]
  },
  {
   "cell_type": "markdown",
   "metadata": {},
   "source": [
    "#### Parameters\n"
   ]
  },
  {
   "cell_type": "code",
   "execution_count": 2,
   "metadata": {},
   "outputs": [],
   "source": [
    "dataset = \"./datasets/shakespear_corpus.txt\""
   ]
  },
  {
   "cell_type": "code",
   "execution_count": 3,
   "metadata": {},
   "outputs": [],
   "source": [
    "bigram_model = BigramLanguageModel(dataset)"
   ]
  },
  {
   "cell_type": "code",
   "execution_count": 4,
   "metadata": {},
   "outputs": [
    {
     "name": "stdout",
     "output_type": "stream",
     "text": [
      "65\n",
      "{'m', ';', '\\n', '&', 'C', 'd', 'g', 'u', ',', 'M', '-', 'v', '?', 'r', 'W', 'p', 'I', 'i', '3', 'h', 'k', 'D', 't', 'K', '.', 'q', '$', 'X', 'o', 'l', 'R', 'L', 'T', 'y', 's', 'n', 'Y', 'G', \"'\", 'S', 'Q', 'B', 'U', 'O', 'P', 'E', 'J', 'c', 'e', ' ', 'j', 'H', ':', '!', 'V', 'x', 'A', 'Z', 'a', 'w', 'f', 'b', 'F', 'z', 'N'}\n"
     ]
    }
   ],
   "source": [
    "V = bigram_model.get_vocab()\n",
    "print(len(V))\n",
    "print(V)"
   ]
  },
  {
   "cell_type": "code",
   "execution_count": 5,
   "metadata": {},
   "outputs": [],
   "source": [
    "bigram_model.train()"
   ]
  },
  {
   "cell_type": "code",
   "execution_count": 6,
   "metadata": {},
   "outputs": [
    {
     "name": "stdout",
     "output_type": "stream",
     "text": [
      "Training loss and perplexity :  (2.4519109811273694, 5.471403602189665)\n",
      "Validation loss and perplexity :  (2.50429155081814, 5.673706612779207)\n"
     ]
    }
   ],
   "source": [
    "print(\"Training loss and perplexity : \", bigram_model.evaluate_train())\n",
    "print(\"Validation loss and perplexity : \", bigram_model.evaluate_validation())"
   ]
  },
  {
   "cell_type": "code",
   "execution_count": 7,
   "metadata": {},
   "outputs": [
    {
     "name": "stdout",
     "output_type": "stream",
     "text": [
      "Validation indices :  0  to  111539\n",
      "train indices : 0 to  0  and  111539  to  1115393\n",
      "Validation indices :  111539  to  223078\n",
      "train indices : 0 to  111539  and  223078  to  1115393\n",
      "Validation indices :  223078  to  334617\n",
      "train indices : 0 to  223078  and  334617  to  1115393\n",
      "Validation indices :  334617  to  446156\n",
      "train indices : 0 to  334617  and  446156  to  1115393\n",
      "Validation indices :  446156  to  557695\n",
      "train indices : 0 to  446156  and  557695  to  1115393\n",
      "Validation indices :  557695  to  669234\n",
      "train indices : 0 to  557695  and  669234  to  1115393\n",
      "Validation indices :  669234  to  780773\n",
      "train indices : 0 to  669234  and  780773  to  1115393\n",
      "Validation indices :  780773  to  892312\n",
      "train indices : 0 to  780773  and  892312  to  1115393\n",
      "Validation indices :  892312  to  1003851\n",
      "train indices : 0 to  892312  and  1003851  to  1115393\n",
      "Validation indices :  1003851  to  1115393\n",
      "train indices : 0 to  1003851  and  1115393  to  1115393\n"
     ]
    }
   ],
   "source": [
    "(\n",
    "    b_loss_train_mean,\n",
    "    b_loss_train_var,\n",
    "    b_perplexity_train_mean,\n",
    "    b_perplexity_train_var,\n",
    "    b_loss_validation_mean,\n",
    "    b_loss_validation_var,\n",
    "    b_perplexity_validation_mean,\n",
    "    b_perplexity_validation_var,\n",
    ") = bigram_model.cross_validation()"
   ]
  },
  {
   "cell_type": "code",
   "execution_count": 8,
   "metadata": {},
   "outputs": [
    {
     "name": "stdout",
     "output_type": "stream",
     "text": [
      "Andaucho we?\n",
      "\n",
      "Whes;\n",
      "NUEd swouede,\n",
      "HAnobruniomind ce, Go ey vind,\n",
      "Whe as. t tht tht RORII'd,\n",
      "Ware bee che gais nto pud theared; what k oven baik:\n",
      "TEvoutr an he wny:\n",
      "VI llinewe.\n",
      "The, ad, I olabray ly thasercomy br s soke ifove I thouer d; boinknous mpe adesefthe wem. bul g im,\n",
      "Al, KI, ccemle'd y, f ot \n"
     ]
    }
   ],
   "source": [
    "start_char_1 = 'A'\n",
    "generated_text = \"\"\n",
    "\n",
    "generation_size = 300\n",
    "\n",
    "generated_text += bigram_model.generate_text(generation_size, start_char_1)\n",
    "\n",
    "print(generated_text)"
   ]
  },
  {
   "cell_type": "code",
   "execution_count": 9,
   "metadata": {},
   "outputs": [],
   "source": [
    "trigram_model = TrigramLanguageModel(dataset)"
   ]
  },
  {
   "cell_type": "code",
   "execution_count": 10,
   "metadata": {},
   "outputs": [],
   "source": [
    "trigram_model.train()"
   ]
  },
  {
   "cell_type": "code",
   "execution_count": 11,
   "metadata": {},
   "outputs": [
    {
     "name": "stdout",
     "output_type": "stream",
     "text": [
      "Training loss and perplexity :  (1.9031741193032683, 3.74035218800882)\n",
      "Validation loss and perplexity :  (2.2604967494306125, 4.791564368154775)\n"
     ]
    }
   ],
   "source": [
    "print(\"Training loss and perplexity : \", trigram_model.evaluate_train())\n",
    "print(\"Validation loss and perplexity : \", trigram_model.evaluate_validation())"
   ]
  },
  {
   "cell_type": "code",
   "execution_count": 12,
   "metadata": {},
   "outputs": [
    {
     "name": "stdout",
     "output_type": "stream",
     "text": [
      "Validation indices :  0  to  111539\n",
      "train indices : 0 to  0  and  111539  to  1115393\n",
      "Validation indices :  111539  to  223078\n",
      "train indices : 0 to  111539  and  223078  to  1115393\n",
      "Validation indices :  223078  to  334617\n",
      "train indices : 0 to  223078  and  334617  to  1115393\n",
      "Validation indices :  334617  to  446156\n",
      "train indices : 0 to  334617  and  446156  to  1115393\n",
      "Validation indices :  446156  to  557695\n",
      "train indices : 0 to  446156  and  557695  to  1115393\n",
      "Validation indices :  557695  to  669234\n",
      "train indices : 0 to  557695  and  669234  to  1115393\n",
      "Validation indices :  669234  to  780773\n",
      "train indices : 0 to  669234  and  780773  to  1115393\n",
      "Validation indices :  780773  to  892312\n",
      "train indices : 0 to  780773  and  892312  to  1115393\n",
      "Validation indices :  892312  to  1003851\n",
      "train indices : 0 to  892312  and  1003851  to  1115393\n",
      "Validation indices :  1003851  to  1115393\n",
      "train indices : 0 to  1003851  and  1115393  to  1115393\n"
     ]
    }
   ],
   "source": [
    "(\n",
    "    t_loss_train_mean,\n",
    "    t_loss_train_var,\n",
    "    t_perplexity_train_mean,\n",
    "    t_perplexity_train_var,\n",
    "    t_loss_validation_mean,\n",
    "    t_loss_validation_var,\n",
    "    t_perplexity_validation_mean,\n",
    "    t_perplexity_validation_var,\n",
    ") = trigram_model.cross_validation()"
   ]
  },
  {
   "cell_type": "code",
   "execution_count": 13,
   "metadata": {},
   "outputs": [
    {
     "name": "stdout",
     "output_type": "stream",
     "text": [
      "At hou mad will now decortur withis, himiol, Rictio, is parep: in agaid fat the men, givet all nothe you thery.\n",
      "\n",
      "Let, stie, anno; inewerehon ban of hat in\n",
      "Is our I hize;\n",
      "Ther; frequir save youle, bettece, bood; th ords this of thearm\n",
      "froks now steng th, a witeby th ho shme to th lee yours fe hombe th \n"
     ]
    }
   ],
   "source": [
    "start_char_1 = 'A'\n",
    "start_char_2 = 't'\n",
    "generated_text = \"\"\n",
    "\n",
    "generation_size = 300\n",
    "\n",
    "generated_text += trigram_model.generate_text(generation_size, start_char_1,start_char_2)\n",
    "\n",
    "\n",
    "print(generated_text)"
   ]
  }
 ],
 "metadata": {
  "kernelspec": {
   "display_name": "Python 3",
   "language": "python",
   "name": "python3"
  },
  "language_info": {
   "codemirror_mode": {
    "name": "ipython",
    "version": 3
   },
   "file_extension": ".py",
   "mimetype": "text/x-python",
   "name": "python",
   "nbconvert_exporter": "python",
   "pygments_lexer": "ipython3",
   "version": "3.11.7"
  }
 },
 "nbformat": 4,
 "nbformat_minor": 2
}
