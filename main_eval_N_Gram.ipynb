{
 "cells": [
  {
   "cell_type": "code",
   "execution_count": 1,
   "metadata": {},
   "outputs": [],
   "source": [
    "import re\n",
    "import random\n",
    "from N_gram import N_gram"
   ]
  },
  {
   "cell_type": "markdown",
   "metadata": {},
   "source": [
    "#### Parameters\n"
   ]
  },
  {
   "cell_type": "code",
   "execution_count": 2,
   "metadata": {},
   "outputs": [],
   "source": [
    "dataset = \"./datasets/shakespear_corpus.txt\""
   ]
  },
  {
   "cell_type": "code",
   "execution_count": 3,
   "metadata": {},
   "outputs": [],
   "source": [
    "bigram_model = N_gram(2,64,dataset)\n",
    "trigram_model = N_gram(3,64,dataset)"
   ]
  },
  {
   "cell_type": "code",
   "execution_count": 4,
   "metadata": {},
   "outputs": [
    {
     "name": "stdout",
     "output_type": "stream",
     "text": [
      "./datasets/shakespear_corpus.txt\n",
      "train indices: [0,111539),[223078,1115393), test indices: [111539,223078)\n",
      "./datasets/shakespear_corpus.txt\n",
      "train indices: [0,111539),[223078,1115393), test indices: [111539,223078)\n",
      "./datasets/shakespear_corpus.txt\n",
      "train indices: [0,111539),[223078,1115393), test indices: [111539,223078)\n",
      "./datasets/shakespear_corpus.txt\n",
      "train indices: [0,111539),[223078,1115393), test indices: [111539,223078)\n"
     ]
    }
   ],
   "source": [
    "b_perplexity_train, b_perplexity_validation = bigram_model.train_model(1,10)\n",
    "t_perplexity_train, t_perplexity_validation = trigram_model.train_model(1,10)"
   ]
  },
  {
   "cell_type": "code",
   "execution_count": null,
   "metadata": {},
   "outputs": [],
   "source": [
    "bigram_model.cross_validation()\n",
    "#trigram_model.cross_validation()"
   ]
  },
  {
   "cell_type": "code",
   "execution_count": null,
   "metadata": {},
   "outputs": [],
   "source": [
    "start_char_1 = 'A'\n",
    "generated_text = \"\"\n",
    "\n",
    "generation_size = 300\n",
    "\n",
    "generated_text += bigram_model.generate_text(generation_size, start_char_1)\n",
    "\n",
    "print(generated_text)"
   ]
  },
  {
   "cell_type": "code",
   "execution_count": null,
   "metadata": {},
   "outputs": [],
   "source": [
    "start_char_1 = 'A'\n",
    "start_char_2 = 't'\n",
    "generated_text = \"\"\n",
    "\n",
    "generation_size = 300\n",
    "\n",
    "generated_text += trigram_model.generate_text(generation_size, start_char_1,start_char_2)\n",
    "\n",
    "\n",
    "print(generated_text)"
   ]
  }
 ],
 "metadata": {
  "kernelspec": {
   "display_name": "Python 3",
   "language": "python",
   "name": "python3"
  },
  "language_info": {
   "codemirror_mode": {
    "name": "ipython",
    "version": 3
   },
   "file_extension": ".py",
   "mimetype": "text/x-python",
   "name": "python",
   "nbconvert_exporter": "python",
   "pygments_lexer": "ipython3",
   "version": "3.11.7"
  }
 },
 "nbformat": 4,
 "nbformat_minor": 2
}
