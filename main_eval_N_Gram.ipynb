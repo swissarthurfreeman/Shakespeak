{
 "cells": [
  {
   "cell_type": "code",
   "execution_count": 1,
   "metadata": {},
   "outputs": [],
   "source": [
    "import re\n",
    "import random\n",
    "from N_gram import BigramLanguageModel"
   ]
  },
  {
   "cell_type": "markdown",
   "metadata": {},
   "source": [
    "#### Parameters"
   ]
  },
  {
   "cell_type": "code",
   "execution_count": 2,
   "metadata": {},
   "outputs": [],
   "source": [
    "dataset = './datasets/shakespear_corpus.txt'"
   ]
  },
  {
   "cell_type": "code",
   "execution_count": 3,
   "metadata": {},
   "outputs": [],
   "source": [
    "bigram_model = BigramLanguageModel(dataset)"
   ]
  },
  {
   "cell_type": "code",
   "execution_count": 4,
   "metadata": {},
   "outputs": [
    {
     "name": "stdout",
     "output_type": "stream",
     "text": [
      "65\n",
      "{'A', 'v', 'R', 'i', \"'\", 'g', 'H', 'r', 'W', 'c', 'o', 'P', 'd', '3', '\\n', 'f', 'U', '?', 'B', 'l', 'N', ';', 'G', ',', 'C', 's', 'h', 'E', 'J', 'T', 'b', 'q', 'y', 'S', ' ', 'x', ':', 'M', '$', 'X', 'Z', '.', 'm', 'n', '&', 'p', 'u', 'O', 'z', 'I', 'j', 'a', 'V', 'e', 'w', '!', 'Y', '-', 'D', 'k', 'K', 'Q', 'L', 'F', 't'}\n"
     ]
    }
   ],
   "source": [
    "V = bigram_model.get_vocab()\n",
    "print(len(V))\n",
    "print(V)"
   ]
  },
  {
   "cell_type": "code",
   "execution_count": 5,
   "metadata": {},
   "outputs": [],
   "source": [
    "bigram_model.train()"
   ]
  },
  {
   "cell_type": "code",
   "execution_count": 6,
   "metadata": {},
   "outputs": [
    {
     "name": "stdout",
     "output_type": "stream",
     "text": [
      "Training loss and perplexity :  (2.4519109811727255, 5.471403602361677)\n",
      "Validation loss and perplexity :  (2.5042916071889594, 5.673706834469509)\n"
     ]
    }
   ],
   "source": [
    "print(\"Training loss and perplexity : \",bigram_model.evaluate_train())\n",
    "print(\"Validation loss and perplexity : \",bigram_model.evaluate_validation())"
   ]
  },
  {
   "cell_type": "code",
   "execution_count": 7,
   "metadata": {},
   "outputs": [
    {
     "name": "stdout",
     "output_type": "stream",
     "text": [
      "['R   e t. ']\n"
     ]
    }
   ],
   "source": [
    "start_char = 'a'\n",
    "generated_text = []\n",
    "for i in range(1):\n",
    "    generated_text.append(bigram_model.generate_text(start_char))\n",
    "\n",
    "\n",
    "print(generated_text)"
   ]
  },
  {
   "cell_type": "code",
   "execution_count": null,
   "metadata": {},
   "outputs": [],
   "source": [
    "\n"
   ]
  }
 ],
 "metadata": {
  "kernelspec": {
   "display_name": "Python 3",
   "language": "python",
   "name": "python3"
  },
  "language_info": {
   "codemirror_mode": {
    "name": "ipython",
    "version": 3
   },
   "file_extension": ".py",
   "mimetype": "text/x-python",
   "name": "python",
   "nbconvert_exporter": "python",
   "pygments_lexer": "ipython3",
   "version": "3.11.7"
  }
 },
 "nbformat": 4,
 "nbformat_minor": 2
}
