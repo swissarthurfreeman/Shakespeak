{
 "cells": [
  {
   "cell_type": "code",
   "execution_count": null,
   "metadata": {},
   "outputs": [],
   "source": [
    "import torch\n",
    "import argparse\n",
    "from model import GPT\n",
    "from utils import generate\n",
    "from train import train_model\n",
    "from utils import getLoaderDataset"
   ]
  },
  {
   "cell_type": "code",
   "execution_count": null,
   "metadata": {},
   "outputs": [],
   "source": [
    "N = 64\n",
    "B = 12\n",
    "loader, dataset = getLoaderDataset(N, B, \"./datasets/shakespear_corpus.txt\")"
   ]
  },
  {
   "cell_type": "code",
   "execution_count": null,
   "metadata": {},
   "outputs": [],
   "source": [
    "N = 64\n",
    "B = 12\n",
    "loader, token_dataset = getLoaderDataset(N, B, \"./datasets/shakespear_corpus.txt\")\n",
    "print(len(token_dataset))"
   ]
  },
  {
   "cell_type": "code",
   "execution_count": null,
   "metadata": {},
   "outputs": [],
   "source": [
    "L = 12\n",
    "d = 768\n",
    "d_ff = 4 * d\n",
    "h = 8\n",
    "V = dataset.get_vocab_size()\n",
    "print(V)\n",
    "model = GPT(B, L, d, d_ff, N, h, V)"
   ]
  },
  {
   "cell_type": "code",
   "execution_count": null,
   "metadata": {},
   "outputs": [],
   "source": [
    "#cpkt = torch.load(\"./runs/model_1000.pt\", map_location=torch.device('cpu'))\n",
    "#model.load_state_dict(cpkt)\n",
    "#print(model)"
   ]
  },
  {
   "cell_type": "code",
   "execution_count": null,
   "metadata": {},
   "outputs": [],
   "source": [
    "new_tokens = generate(model, dataset.encode(\"Hello World\"), 100)\n",
    "print(dataset.decode(new_tokens))"
   ]
  },
  {
   "cell_type": "code",
   "execution_count": null,
   "metadata": {},
   "outputs": [],
   "source": [
    "N = 64\n",
    "B = 12\n",
    "L = 6\n",
    "d = 128\n",
    "d_ff = 4 * d\n",
    "h = 6\n",
    "V = dataset.get_vocab_size()"
   ]
  },
  {
   "cell_type": "code",
   "execution_count": null,
   "metadata": {},
   "outputs": [],
   "source": [
    "B = 12\n",
    "N = 64  # context of up to 256 previous characters\n",
    "L = 4\n",
    "h = 4\n",
    "d = 128\n",
    "learning_rate = 1e-3\n",
    "use_lr_decay = False\n",
    "dataset = './datasets/shakespear_corpus.txt'\n",
    "out_dir = './runs/'\n",
    "\n",
    "max_iterations = 1000\n",
    "\n",
    "class Args(argparse.Namespace):\n",
    "    batch_size:int = B\n",
    "    n_tokens:int = N\n",
    "    n_layers:int = L\n",
    "    n_heads:int = h\n",
    "    d_model:int = d\n",
    "    use_lr_decay:bool = use_lr_decay\n",
    "    learning_rate: float = learning_rate\n",
    "    dataset: str = dataset\n",
    "    max_iterations: int = max_iterations\n",
    "    out: str = out_dir"
   ]
  },
  {
   "cell_type": "code",
   "execution_count": null,
   "metadata": {},
   "outputs": [],
   "source": [
    "model, losses, perplexities = train_model(Args())"
   ]
  },
  {
   "cell_type": "code",
   "execution_count": null,
   "metadata": {},
   "outputs": [],
   "source": [
    "import torch\n",
    "\n",
    "B = 12\n",
    "N = 64  # context of up to 256 previous characters\n",
    "L = 4\n",
    "h = 4\n",
    "d = 128\n",
    "learning_rate = 1e-3\n",
    "betas = (0.9, 0.99)\n",
    "eps = 10e-9\n",
    "n_warmup_iterations = 100\n",
    "learning_rate_decay_iterations = 5000\n",
    "min_learning_rate = 1e-4\n",
    "use_lr_decay = True\n",
    "loader, dataset = getLoaderDataset(N, B, \"./datasets/shakespear_corpus.txt\")\n",
    "\n",
    "model = GPT(B, L, d, 3*d, N, h, V)\n",
    "\n",
    "cpkt = torch.load(\"./runs/model_10000.pt\", map_location=torch.device('cpu'))\n",
    "model.load_state_dict(cpkt)\n",
    "print(model)"
   ]
  },
  {
   "cell_type": "code",
   "execution_count": null,
   "metadata": {},
   "outputs": [],
   "source": [
    "from utils import generate\n",
    "\n",
    "new_tokens = generate(model, dataset.encode(\"Hello World\"), 300)\n",
    "print(dataset.decode(new_tokens))"
   ]
  }
 ],
 "metadata": {
  "kernelspec": {
   "display_name": "dl",
   "language": "python",
   "name": "python3"
  },
  "language_info": {
   "codemirror_mode": {
    "name": "ipython",
    "version": 3
   },
   "file_extension": ".py",
   "mimetype": "text/x-python",
   "name": "python",
   "nbconvert_exporter": "python",
   "pygments_lexer": "ipython3",
   "version": "3.11.7"
  }
 },
 "nbformat": 4,
 "nbformat_minor": 2
}
