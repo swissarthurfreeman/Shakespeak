{
 "cells": [
  {
   "cell_type": "code",
   "execution_count": 1,
   "metadata": {},
   "outputs": [],
   "source": [
    "from utils import getLoaderDataset\n",
    " \n",
    "N = 64\n",
    "B = 12\n",
    "\n",
    "loader, dataset = getLoaderDataset(N, B, \"./datasets/shakespear_corpus.txt\")"
   ]
  },
  {
   "cell_type": "code",
   "execution_count": 2,
   "metadata": {},
   "outputs": [
    {
     "name": "stdout",
     "output_type": "stream",
     "text": [
      "1115329\n"
     ]
    }
   ],
   "source": [
    "print(len(dataset))"
   ]
  },
  {
   "cell_type": "code",
   "execution_count": 5,
   "metadata": {},
   "outputs": [],
   "source": [
    "from model import GPT\n",
    "from train import train_model\n",
    "\n",
    "L = 12\n",
    "d = 768\n",
    "d_ff = 4 * d\n",
    "h = 8\n",
    "V = dataset.get_vocab_size()\n",
    "\n",
    "model = GPT(B, L, d, d_ff, N, h, V)"
   ]
  },
  {
   "cell_type": "code",
   "execution_count": null,
   "metadata": {},
   "outputs": [],
   "source": [
    "model, losses = train_model(model, loader, dataset)"
   ]
  },
  {
   "cell_type": "code",
   "execution_count": 6,
   "metadata": {},
   "outputs": [
    {
     "name": "stdout",
     "output_type": "stream",
     "text": [
      "GPT(\n",
      "  (WTE): Embedding(65, 768)\n",
      "  (WPE): WPE()\n",
      "  (blocks): ModuleList(\n",
      "    (0-11): 12 x Block(\n",
      "      (CausalSelfAttn): CausalSelfAttention(\n",
      "        (W_Q): Linear(in_features=768, out_features=768, bias=True)\n",
      "        (W_K): Linear(in_features=768, out_features=768, bias=True)\n",
      "        (W_V): Linear(in_features=768, out_features=768, bias=True)\n",
      "        (W_O): Linear(in_features=768, out_features=768, bias=True)\n",
      "      )\n",
      "      (W1): Linear(in_features=768, out_features=3072, bias=True)\n",
      "      (W2): Linear(in_features=3072, out_features=768, bias=True)\n",
      "      (LayerNorm1): LayerNorm((768,), eps=1e-05, elementwise_affine=True)\n",
      "      (LayerNorm2): LayerNorm((768,), eps=1e-05, elementwise_affine=True)\n",
      "    )\n",
      "  )\n",
      "  (Dropout): Dropout(p=0.2, inplace=False)\n",
      "  (Final_LayerNorm): LayerNorm((768,), eps=1e-05, elementwise_affine=True)\n",
      "  (LM_Head): Linear(in_features=768, out_features=65, bias=True)\n",
      ")\n"
     ]
    }
   ],
   "source": [
    "import torch\n",
    "\n",
    "cpkt = torch.load(\"./runs/fat_model/model_6200.pt\", map_location=torch.device('cpu'))\n",
    "model.load_state_dict(cpkt)\n",
    "print(model)"
   ]
  },
  {
   "cell_type": "code",
   "execution_count": 7,
   "metadata": {},
   "outputs": [
    {
     "name": "stderr",
     "output_type": "stream",
     "text": [
      "/home/gordon/Documents/edu/gordon_ms/Sem3/DeepLearning/Shakespeak/utils.py:94: UserWarning: To copy construct from a tensor, it is recommended to use sourceTensor.clone().detach() or sourceTensor.clone().detach().requires_grad_(True), rather than torch.tensor(sourceTensor).\n",
      "  new_c = torch.tensor(char_id).reshape(shape=(1, 1))\n"
     ]
    },
    {
     "name": "stdout",
     "output_type": "stream",
     "text": [
      "Hello World, a more crown, and sour bigger and so do,\n",
      "For my father, and myself and my pitch-doth glift.\n",
      "\n",
      "QUEEN ELIZABETH:\n",
      "Last good brother, Warwick, and they have our stay!\n",
      "\n",
      "QUEEN MARGARET:\n",
      "Teach of mine all, my lord: had it unto\n",
      "And bear me leads, by the sea is water,\n",
      "Than sanctifable on more in my earth.\n",
      "\n",
      "\n"
     ]
    }
   ],
   "source": [
    "from utils import generate\n",
    "\n",
    "new_tokens = generate(model, dataset.encode(\"Hello World\"), 300)\n",
    "print(dataset.decode(new_tokens))"
   ]
  },
  {
   "cell_type": "code",
   "execution_count": 10,
   "metadata": {},
   "outputs": [],
   "source": [
    "from model import GPT\n",
    "from train import train_model, parse_args\n",
    "\n",
    "N = 64\n",
    "B = 12\n",
    "L = 6\n",
    "d = 128\n",
    "d_ff = 4 * d\n",
    "h = 6\n",
    "V = dataset.get_vocab_size()"
   ]
  },
  {
   "cell_type": "code",
   "execution_count": 11,
   "metadata": {},
   "outputs": [
    {
     "ename": "NameError",
     "evalue": "name 'B' is not defined",
     "output_type": "error",
     "traceback": [
      "\u001b[0;31m---------------------------------------------------------------------------\u001b[0m",
      "\u001b[0;31mNameError\u001b[0m                                 Traceback (most recent call last)",
      "Cell \u001b[0;32mIn[11], line 1\u001b[0m\n\u001b[0;32m----> 1\u001b[0m model, losses \u001b[38;5;241m=\u001b[39m train_model(\u001b[43mparse_args\u001b[49m\u001b[43m(\u001b[49m\u001b[43m)\u001b[49m)\n",
      "File \u001b[0;32m~/Documents/edu/gordon_ms/Sem3/DeepLearning/Shakespeak/train.py:67\u001b[0m, in \u001b[0;36mparse_args\u001b[0;34m()\u001b[0m\n\u001b[1;32m     65\u001b[0m \u001b[38;5;28;01mdef\u001b[39;00m \u001b[38;5;21mparse_args\u001b[39m():\n\u001b[1;32m     66\u001b[0m     parser \u001b[38;5;241m=\u001b[39m argparse\u001b[38;5;241m.\u001b[39mArgumentParser()\n\u001b[0;32m---> 67\u001b[0m     parser\u001b[38;5;241m.\u001b[39madd_argument(\u001b[38;5;124m\"\u001b[39m\u001b[38;5;124m--batch_size\u001b[39m\u001b[38;5;124m\"\u001b[39m, \u001b[38;5;124m\"\u001b[39m\u001b[38;5;124m-b\u001b[39m\u001b[38;5;124m\"\u001b[39m, help\u001b[38;5;241m=\u001b[39m\u001b[38;5;124mf\u001b[39m\u001b[38;5;124m\"\u001b[39m\u001b[38;5;124mBatch size (default: \u001b[39m\u001b[38;5;132;01m{\u001b[39;00m\u001b[43mB\u001b[49m\u001b[38;5;132;01m}\u001b[39;00m\u001b[38;5;124m).\u001b[39m\u001b[38;5;124m\"\u001b[39m, \u001b[38;5;28mtype\u001b[39m\u001b[38;5;241m=\u001b[39m\u001b[38;5;28mint\u001b[39m, default\u001b[38;5;241m=\u001b[39mB,)\n\u001b[1;32m     68\u001b[0m     parser\u001b[38;5;241m.\u001b[39madd_argument(\u001b[38;5;124m\"\u001b[39m\u001b[38;5;124m--n_tokens\u001b[39m\u001b[38;5;124m\"\u001b[39m, \u001b[38;5;124m\"\u001b[39m\u001b[38;5;124m-n\u001b[39m\u001b[38;5;124m\"\u001b[39m, help\u001b[38;5;241m=\u001b[39m\u001b[38;5;124mf\u001b[39m\u001b[38;5;124m\"\u001b[39m\u001b[38;5;124mNumber of tokens (default: \u001b[39m\u001b[38;5;132;01m{\u001b[39;00mN\u001b[38;5;132;01m}\u001b[39;00m\u001b[38;5;124m).\u001b[39m\u001b[38;5;124m\"\u001b[39m, \u001b[38;5;28mtype\u001b[39m\u001b[38;5;241m=\u001b[39m\u001b[38;5;28mint\u001b[39m, default\u001b[38;5;241m=\u001b[39mN,)\n\u001b[1;32m     69\u001b[0m     parser\u001b[38;5;241m.\u001b[39madd_argument(\u001b[38;5;124m\"\u001b[39m\u001b[38;5;124m--n_layers\u001b[39m\u001b[38;5;124m\"\u001b[39m, \u001b[38;5;124m\"\u001b[39m\u001b[38;5;124m-l\u001b[39m\u001b[38;5;124m\"\u001b[39m, help\u001b[38;5;241m=\u001b[39m\u001b[38;5;124mf\u001b[39m\u001b[38;5;124m\"\u001b[39m\u001b[38;5;124mNumber of layers (default: \u001b[39m\u001b[38;5;132;01m{\u001b[39;00mL\u001b[38;5;132;01m}\u001b[39;00m\u001b[38;5;124m).\u001b[39m\u001b[38;5;124m\"\u001b[39m,\u001b[38;5;28mtype\u001b[39m\u001b[38;5;241m=\u001b[39m\u001b[38;5;28mint\u001b[39m, default\u001b[38;5;241m=\u001b[39mL,)\n",
      "\u001b[0;31mNameError\u001b[0m: name 'B' is not defined"
     ]
    }
   ],
   "source": [
    "model, losses = train_model(parse_args())"
   ]
  },
  {
   "cell_type": "code",
   "execution_count": 13,
   "metadata": {},
   "outputs": [
    {
     "name": "stdout",
     "output_type": "stream",
     "text": [
      "GPT(\n",
      "  (WTE): Embedding(65, 128)\n",
      "  (WPE): WPE()\n",
      "  (blocks): ModuleList(\n",
      "    (0-3): 4 x Block(\n",
      "      (CausalSelfAttn): CausalSelfAttention(\n",
      "        (W_Q): Linear(in_features=128, out_features=128, bias=True)\n",
      "        (W_K): Linear(in_features=128, out_features=128, bias=True)\n",
      "        (W_V): Linear(in_features=128, out_features=128, bias=True)\n",
      "        (W_O): Linear(in_features=128, out_features=128, bias=True)\n",
      "      )\n",
      "      (W1): Linear(in_features=128, out_features=384, bias=True)\n",
      "      (W2): Linear(in_features=384, out_features=128, bias=True)\n",
      "      (LayerNorm1): LayerNorm((128,), eps=1e-05, elementwise_affine=True)\n",
      "      (LayerNorm2): LayerNorm((128,), eps=1e-05, elementwise_affine=True)\n",
      "    )\n",
      "  )\n",
      "  (Dropout): Dropout(p=0.2, inplace=False)\n",
      "  (Final_LayerNorm): LayerNorm((128,), eps=1e-05, elementwise_affine=True)\n",
      "  (LM_Head): Linear(in_features=128, out_features=65, bias=True)\n",
      ")\n"
     ]
    }
   ],
   "source": [
    "import torch\n",
    "\n",
    "B = 12\n",
    "N = 64  # context of up to 256 previous characters\n",
    "L = 4\n",
    "h = 4\n",
    "d = 128\n",
    "learning_rate = 1e-3\n",
    "betas = (0.9, 0.99)\n",
    "eps = 10e-9\n",
    "n_warmup_iterations = 100\n",
    "learning_rate_decay_iterations = 5000\n",
    "min_learning_rate = 1e-4\n",
    "use_lr_decay = True\n",
    "dataset = './datasets/shakespear_corpus.txt'\n",
    "\n",
    "model = GPT(B, L, d, 3*d, N, h, V)\n",
    "\n",
    "cpkt = torch.load(\"./runs/model_2000.pt\", map_location=torch.device('cpu'))\n",
    "model.load_state_dict(cpkt)\n",
    "print(model)"
   ]
  },
  {
   "cell_type": "code",
   "execution_count": null,
   "metadata": {},
   "outputs": [],
   "source": [
    "from utils import generate\n",
    "\n",
    "new_tokens = generate(model, dataset.encode(\"Hello World\"), 300)\n",
    "print(dataset.decode(new_tokens))"
   ]
  }
 ],
 "metadata": {
  "kernelspec": {
   "display_name": "dl",
   "language": "python",
   "name": "python3"
  },
  "language_info": {
   "codemirror_mode": {
    "name": "ipython",
    "version": 3
   },
   "file_extension": ".py",
   "mimetype": "text/x-python",
   "name": "python",
   "nbconvert_exporter": "python",
   "pygments_lexer": "ipython3",
   "version": "3.11.5"
  }
 },
 "nbformat": 4,
 "nbformat_minor": 2
}
