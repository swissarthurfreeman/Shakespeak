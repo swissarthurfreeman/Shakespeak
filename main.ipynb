{
  "nbformat": 4,
  "nbformat_minor": 0,
  "metadata": {
    "colab": {
      "provenance": [],
      "authorship_tag": "ABX9TyMA0pZGGy3IQ5t9SjvKX1Z9"
    },
    "kernelspec": {
      "name": "python3",
      "display_name": "Python 3"
    },
    "language_info": {
      "name": "python"
    }
  },
  "cells": [
    {
      "cell_type": "markdown",
      "source": [
        "# Deep Learning - Small Large Language Model"
      ],
      "metadata": {
        "id": "tZ9W4E9ash1q"
      }
    },
    {
      "cell_type": "code",
      "source": [],
      "metadata": {
        "id": "xteFFuQxsmin"
      },
      "execution_count": null,
      "outputs": []
    }
  ]
}