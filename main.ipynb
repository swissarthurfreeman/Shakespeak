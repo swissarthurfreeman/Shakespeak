{
 "cells": [
  {
   "cell_type": "code",
   "execution_count": 12,
   "metadata": {},
   "outputs": [],
   "source": [
    "import torch.nn as nn\n",
    "import torch"
   ]
  },
  {
   "cell_type": "markdown",
   "metadata": {},
   "source": [
    "### Batched Self-Attention"
   ]
  },
  {
   "cell_type": "code",
   "execution_count": 36,
   "metadata": {},
   "outputs": [
    {
     "name": "stdout",
     "output_type": "stream",
     "text": [
      "torch.Size([10, 8, 128, 300])\n",
      "torch.Size([10, 8, 128, 300])\n",
      "torch.Size([10, 8, 128, 320])\n"
     ]
    }
   ],
   "source": [
    "B, N, d = 10, 128, 256\n",
    "d_k, d_v = 300, 320\n",
    "h = 8\n",
    "\n",
    "X = torch.rand(size=(B, N, d))\n",
    "W_Q = torch.ones(size=(h, d, d_k))\n",
    "W_K = torch.ones(size=(h, d, d_k))\n",
    "W_V = torch.ones(size=(h, d, d_v))\n",
    "\n",
    "Q = torch.einsum('bik,hkj->bhij', X, W_Q)\n",
    "print(Q.size())\n",
    "\n",
    "K = torch.einsum('bik,hkj->bhij', X, W_K)\n",
    "print(K.size())\n",
    "\n",
    "V = torch.einsum('bik,hkj->bhij', X, W_V)\n",
    "print(V.size())"
   ]
  },
  {
   "cell_type": "code",
   "execution_count": 37,
   "metadata": {},
   "outputs": [
    {
     "name": "stdout",
     "output_type": "stream",
     "text": [
      "torch.Size([10, 8, 128, 128])\n"
     ]
    }
   ],
   "source": [
    "QKT = torch.einsum('bhik,bhkj->bhij', Q, torch.transpose(K, 2, 3))\n",
    "print(QKT.size())"
   ]
  },
  {
   "cell_type": "code",
   "execution_count": 38,
   "metadata": {},
   "outputs": [
    {
     "name": "stdout",
     "output_type": "stream",
     "text": [
      "tensor([  0.,   0.,   0.,   0.,   0.,   0.,   0.,   0.,   0.,   0.,   0.,   0.,\n",
      "          0.,   0.,   0.,   0.,   0.,   0.,   0.,   0.,   0.,   0.,   0.,   0.,\n",
      "          0.,   0.,   0.,   0.,   0.,   0.,   0.,   0.,   0.,   0.,   0.,   0.,\n",
      "          0.,   0.,   0.,   0.,   0.,   0.,   0.,   0.,   0.,   0.,   0.,   0.,\n",
      "          0.,   0.,   0.,   0.,   0.,   0.,   0.,   0.,   0.,   0.,   0.,   0.,\n",
      "          0.,   0.,   0.,   0.,   0.,   0.,   0.,   0.,   0.,   0.,   0.,   0.,\n",
      "          0.,   0.,   0.,   0.,   0.,   0.,   0.,   0.,   0.,   0.,   0.,   0.,\n",
      "          0.,   0.,   0.,   0.,   0.,   0.,   0.,   0.,   0.,   0.,   0.,   0.,\n",
      "          0.,   0.,   0.,   0.,   0.,   0.,   0.,   0.,   0., 128.,   0.,   0.,\n",
      "          0.,   0.,   0.,   0.,   0.,   0.,   0.,   0.,   0.,   0.,   0.,   0.,\n",
      "          0.,   0.,   0.,   0.,   0.,   0.,   0.,   0.])\n"
     ]
    }
   ],
   "source": [
    "sm = nn.Softmax(dim=2)\n",
    "A = sm(QKT)\n",
    "\n",
    "print(A[0,0,:,:].sum(dim=1))    # they're indeed probability distributions"
   ]
  },
  {
   "cell_type": "code",
   "execution_count": 39,
   "metadata": {},
   "outputs": [
    {
     "name": "stdout",
     "output_type": "stream",
     "text": [
      "torch.Size([10, 8, 128, 320])\n"
     ]
    }
   ],
   "source": [
    "V = torch.einsum('bik,hkj->bhij', X, W_V)\n",
    "print(V.size())"
   ]
  },
  {
   "cell_type": "code",
   "execution_count": 40,
   "metadata": {},
   "outputs": [
    {
     "name": "stdout",
     "output_type": "stream",
     "text": [
      "torch.Size([10, 8, 128, 320])\n"
     ]
    }
   ],
   "source": [
    "AV = torch.einsum('bhik,bhkj->bhij', A, V)\n",
    "print(AV.size())"
   ]
  },
  {
   "cell_type": "code",
   "execution_count": 41,
   "metadata": {},
   "outputs": [
    {
     "name": "stdout",
     "output_type": "stream",
     "text": [
      "torch.Size([10, 128, 2560])\n"
     ]
    }
   ],
   "source": [
    "AV_concat = torch.reshape(AV, shape=(B, N, h*d_v))\n",
    "print(AV_concat.size())"
   ]
  },
  {
   "cell_type": "code",
   "execution_count": 42,
   "metadata": {},
   "outputs": [
    {
     "name": "stdout",
     "output_type": "stream",
     "text": [
      "B x N x d = torch.Size([10, 128, 256])\n"
     ]
    }
   ],
   "source": [
    "W_O = torch.ones(size=(h*d_v, d))\n",
    "SA_out = torch.einsum('bni,id->bnd', AV_concat, W_O)\n",
    "print(\"B x N x d =\", SA_out.size())"
   ]
  },
  {
   "cell_type": "markdown",
   "metadata": {},
   "source": [
    "### Batched Layer Norm"
   ]
  },
  {
   "cell_type": "code",
   "execution_count": 43,
   "metadata": {},
   "outputs": [
    {
     "name": "stdout",
     "output_type": "stream",
     "text": [
      "N = 128 B = 10 d = 256\n",
      "mu torch.Size([10, 128, 1])\n",
      "std torch.Size([10, 128, 1])\n",
      "X_hat torch.Size([10, 128, 256])\n",
      "tensor(5.7742e-08)\n",
      "tensor(1.)\n"
     ]
    }
   ],
   "source": [
    "print(\"N =\", N, \"B =\", B, \"d =\", d)\n",
    "\n",
    "mu = torch.mean(X, dim=2).unsqueeze(-1)\n",
    "print(\"mu\", mu.size())\n",
    "\n",
    "std = torch.std(X, dim=2).unsqueeze(-1)\n",
    "print(\"std\", std.size())\n",
    "\n",
    "X_hat = (X - mu) / std \n",
    "print(\"X_hat\", X_hat.size())\n",
    "print(torch.mean(X_hat, dim=2)[0][0])   # sanity checks\n",
    "print(torch.std(X_hat, dim=2)[0][0])    # sanity checks, note if std is 0 everywhere this can yield nan"
   ]
  },
  {
   "cell_type": "markdown",
   "metadata": {},
   "source": [
    "### Batched FFN"
   ]
  },
  {
   "cell_type": "code",
   "execution_count": 50,
   "metadata": {},
   "outputs": [
    {
     "name": "stdout",
     "output_type": "stream",
     "text": [
      "torch.Size([10, 128, 512])\n",
      "torch.Size([10, 128, 256])\n"
     ]
    }
   ],
   "source": [
    "import torch.nn.functional as F\n",
    "\n",
    "d_ff = 512\n",
    "W1 = torch.rand(size=(d, d_ff))\n",
    "W2 = torch.rand(size=(d_ff, d))\n",
    "\n",
    "X1 = F.relu(torch.matmul(X, W1))\n",
    "print(X1.size())\n",
    "S2 = torch.matmul(X1, W2)\n",
    "print(S2.size())"
   ]
  },
  {
   "cell_type": "markdown",
   "metadata": {},
   "source": [
    "## Todo : \n",
    "\n",
    "- Define batch einsum operations on layer norm\n",
    "- Same on feedforward\n",
    "- Implement a Transformer block using that."
   ]
  },
  {
   "cell_type": "code",
   "execution_count": null,
   "metadata": {},
   "outputs": [],
   "source": []
  }
 ],
 "metadata": {
  "kernelspec": {
   "display_name": "dl",
   "language": "python",
   "name": "python3"
  },
  "language_info": {
   "codemirror_mode": {
    "name": "ipython",
    "version": 3
   },
   "file_extension": ".py",
   "mimetype": "text/x-python",
   "name": "python",
   "nbconvert_exporter": "python",
   "pygments_lexer": "ipython3",
   "version": "3.11.5"
  }
 },
 "nbformat": 4,
 "nbformat_minor": 2
}
