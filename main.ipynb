{
 "cells": [
  {
   "cell_type": "code",
   "execution_count": 1,
   "metadata": {},
   "outputs": [],
   "source": [
    "import torch\n",
    "import torch.nn as nn"
   ]
  },
  {
   "cell_type": "markdown",
   "metadata": {},
   "source": [
    "### Batched Self-Attention"
   ]
  },
  {
   "cell_type": "code",
   "execution_count": 55,
   "metadata": {},
   "outputs": [
    {
     "name": "stdout",
     "output_type": "stream",
     "text": [
      "torch.Size([10, 8, 128, 300])\n",
      "torch.Size([10, 8, 128, 300])\n",
      "torch.Size([10, 8, 128, 320])\n"
     ]
    }
   ],
   "source": [
    "B, N, d = 10, 128, 256\n",
    "d_k, d_v = 300, 320\n",
    "h = 8\n",
    "\n",
    "X = torch.rand(size=(B, N, d))\n",
    "W_Q = torch.ones(size=(h, d, d_k))\n",
    "W_K = torch.ones(size=(h, d, d_k))\n",
    "W_V = torch.ones(size=(h, d, d_v))\n",
    "\n",
    "Q = torch.einsum('bik,hkj->bhij', X, W_Q)\n",
    "print(Q.size())\n",
    "\n",
    "K = torch.einsum('bik,hkj->bhij', X, W_K)\n",
    "print(K.size())\n",
    "\n",
    "V = torch.einsum('bik,hkj->bhij', X, W_V)\n",
    "print(V.size())"
   ]
  },
  {
   "cell_type": "code",
   "execution_count": 56,
   "metadata": {},
   "outputs": [
    {
     "name": "stdout",
     "output_type": "stream",
     "text": [
      "torch.Size([10, 8, 128, 128])\n"
     ]
    }
   ],
   "source": [
    "QKT = torch.einsum('bhik,bhkj->bhij', Q, torch.transpose(K, 2, 3))\n",
    "print(QKT.size())"
   ]
  },
  {
   "cell_type": "code",
   "execution_count": 62,
   "metadata": {},
   "outputs": [
    {
     "name": "stdout",
     "output_type": "stream",
     "text": [
      "tensor(1.)\n"
     ]
    }
   ],
   "source": [
    "sm = nn.Softmax(dim=3)\n",
    "A = sm(QKT)\n",
    "\n",
    "print(A[0,0,0,:].sum())    # they're indeed probability distributions\n",
    "\n",
    "\n",
    "Q x K\n",
    "Q x K \n",
    "\n"
   ]
  },
  {
   "cell_type": "code",
   "execution_count": 39,
   "metadata": {},
   "outputs": [
    {
     "name": "stdout",
     "output_type": "stream",
     "text": [
      "torch.Size([10, 8, 128, 320])\n"
     ]
    }
   ],
   "source": [
    "V = torch.einsum('bik,hkj->bhij', X, W_V)\n",
    "print(V.size())"
   ]
  },
  {
   "cell_type": "code",
   "execution_count": 40,
   "metadata": {},
   "outputs": [
    {
     "name": "stdout",
     "output_type": "stream",
     "text": [
      "torch.Size([10, 8, 128, 320])\n"
     ]
    }
   ],
   "source": [
    "AV = torch.einsum('bhik,bhkj->bhij', A, V)\n",
    "print(AV.size())"
   ]
  },
  {
   "cell_type": "code",
   "execution_count": 41,
   "metadata": {},
   "outputs": [
    {
     "name": "stdout",
     "output_type": "stream",
     "text": [
      "torch.Size([10, 128, 2560])\n"
     ]
    }
   ],
   "source": [
    "AV_concat = torch.reshape(AV, shape=(B, N, h*d_v))\n",
    "print(AV_concat.size())"
   ]
  },
  {
   "cell_type": "code",
   "execution_count": 42,
   "metadata": {},
   "outputs": [
    {
     "name": "stdout",
     "output_type": "stream",
     "text": [
      "B x N x d = torch.Size([10, 128, 256])\n"
     ]
    }
   ],
   "source": [
    "W_O = torch.ones(size=(h*d_v, d))\n",
    "SA_out = torch.einsum('bni,id->bnd', AV_concat, W_O)\n",
    "print(\"B x N x d =\", SA_out.size())"
   ]
  },
  {
   "cell_type": "markdown",
   "metadata": {},
   "source": [
    "### Batched Layer Norm"
   ]
  },
  {
   "cell_type": "code",
   "execution_count": 43,
   "metadata": {},
   "outputs": [
    {
     "name": "stdout",
     "output_type": "stream",
     "text": [
      "N = 128 B = 10 d = 256\n",
      "mu torch.Size([10, 128, 1])\n",
      "std torch.Size([10, 128, 1])\n",
      "X_hat torch.Size([10, 128, 256])\n",
      "tensor(5.7742e-08)\n",
      "tensor(1.)\n"
     ]
    }
   ],
   "source": [
    "print(\"B =\", B, \"N =\", N, \"d =\", d)\n",
    "\n",
    "B N D\n",
    "B N 1\n",
    "\n",
    "mu = torch.mean(X, dim=2).unsqueeze(-1)\n",
    "print(\"mu\", mu.size())\n",
    "\n",
    "std = torch.std(X, dim=2).unsqueeze(-1)\n",
    "print(\"std\", std.size())\n",
    "\n",
    "X_hat = (X - mu) / std \n",
    "print(\"X_hat\", X_hat.size())\n",
    "print(torch.mean(X_hat, dim=2)[0][0])   # sanity checks\n",
    "print(torch.std(X_hat, dim=2)[0][0])    # sanity checks, note if std is 0 everywhere this can yield nan"
   ]
  },
  {
   "cell_type": "markdown",
   "metadata": {},
   "source": [
    "### Batched FFN"
   ]
  },
  {
   "cell_type": "code",
   "execution_count": 50,
   "metadata": {},
   "outputs": [
    {
     "name": "stdout",
     "output_type": "stream",
     "text": [
      "torch.Size([10, 128, 512])\n",
      "torch.Size([10, 128, 256])\n"
     ]
    }
   ],
   "source": [
    "import torch.nn.functional as F\n",
    "\n",
    "d_ff = 512\n",
    "W1 = torch.rand(size=(d, d_ff))\n",
    "W2 = torch.rand(size=(d_ff, d))\n",
    "\n",
    "X1 = F.relu(torch.matmul(X, W1))\n",
    "print(X1.size())\n",
    "S2 = torch.matmul(X1, W2)\n",
    "print(S2.size())"
   ]
  },
  {
   "cell_type": "markdown",
   "metadata": {},
   "source": [
    "### Module Tests"
   ]
  },
  {
   "cell_type": "code",
   "execution_count": 9,
   "metadata": {},
   "outputs": [],
   "source": [
    "from main import load_data\n",
    "from model import ShakespearModel\n",
    "from parsing.CharDataSet import CharDataSet\n",
    "from torch.utils.data.dataloader import DataLoader\n",
    "\n",
    "\n",
    "N_TOKENS = 128              # N\n",
    "N_LAYERS = 12               # L\n",
    "N_HEADS = 8                 # h\n",
    "N_WORKERS = 2\n",
    "BATCH_SIZE = 20             # B\n",
    "D_MODEL = 768               # d\n",
    "D_K = 64\n",
    "D_V = D_K\n",
    "D_FF = 2048\n",
    "RAW_DATA_PATH = './datasets/shakespear_corpus.txt'\n",
    "\n",
    "raw_data = load_data(RAW_DATA_PATH)\n",
    "\n",
    "tokenized_data = CharDataSet(N_TOKENS, raw_data)\n",
    "data_loader = DataLoader(\n",
    "    tokenized_data,\n",
    "    shuffle=False,\n",
    "    batch_size=BATCH_SIZE,\n",
    "    num_workers=N_WORKERS,\n",
    ")"
   ]
  },
  {
   "cell_type": "code",
   "execution_count": 10,
   "metadata": {},
   "outputs": [
    {
     "name": "stdout",
     "output_type": "stream",
     "text": [
      "torch.Size([20, 128])\n",
      "First Citizen:\n",
      "Before we proceed any further, hear me speak.\n",
      "\n",
      "All:\n",
      "Speak, speak.\n",
      "\n",
      "First Citizen:\n",
      "You are all resolved rather to \n"
     ]
    }
   ],
   "source": [
    "# get first batch of sentences\n",
    "tokenized_sentence, _ = next(iter(data_loader))  # (128,128) = (B,N)\n",
    "\n",
    "print(tokenized_sentence.size())\n",
    "print(tokenized_data.decode(tokenized_sentence[0, :]))"
   ]
  },
  {
   "cell_type": "code",
   "execution_count": 13,
   "metadata": {},
   "outputs": [],
   "source": [
    "# default value given by teacher assist. We should play with it when it's working\n",
    "model = ShakespearModel(N_LAYERS, N_HEADS,\n",
    "                        D_MODEL, D_FF, D_K, D_V, BATCH_SIZE, N_TOKENS, tokenized_data.get_vocab_size())"
   ]
  },
  {
   "cell_type": "code",
   "execution_count": 14,
   "metadata": {},
   "outputs": [],
   "source": [
    "out = model(tokenized_sentence)"
   ]
  },
  {
   "cell_type": "code",
   "execution_count": 16,
   "metadata": {},
   "outputs": [
    {
     "name": "stdout",
     "output_type": "stream",
     "text": [
      "torch.Size([20, 128, 65])\n",
      "65\n"
     ]
    }
   ],
   "source": [
    "print(out.size())\n",
    "print(tokenized_data.get_vocab_size())"
   ]
  },
  {
   "cell_type": "code",
   "execution_count": null,
   "metadata": {},
   "outputs": [],
   "source": []
  }
 ],
 "metadata": {
  "kernelspec": {
   "display_name": "dl",
   "language": "python",
   "name": "python3"
  },
  "language_info": {
   "codemirror_mode": {
    "name": "ipython",
    "version": 3
   },
   "file_extension": ".py",
   "mimetype": "text/x-python",
   "name": "python",
   "nbconvert_exporter": "python",
   "pygments_lexer": "ipython3",
   "version": "3.11.5"
  }
 },
 "nbformat": 4,
 "nbformat_minor": 2
}
