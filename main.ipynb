{
 "cells": [
  {
   "cell_type": "code",
   "execution_count": 1,
   "metadata": {},
   "outputs": [],
   "source": [
    "import torch\n",
    "import argparse\n",
    "from model import GPT\n",
    "from utils import generate\n",
    "from train import train_model\n",
    "from utils import getLoaderDataset"
   ]
  },
  {
   "cell_type": "code",
   "execution_count": 2,
   "metadata": {},
   "outputs": [
    {
     "name": "stdout",
     "output_type": "stream",
     "text": [
      "1003789\n"
     ]
    }
   ],
   "source": [
    "N = 64\n",
    "B = 12\n",
    "loader, dataset = getLoaderDataset(N, B, \"./datasets/shakespear_corpus.txt\")\n",
    "print(len(dataset))"
   ]
  },
  {
   "cell_type": "code",
   "execution_count": 3,
   "metadata": {},
   "outputs": [],
   "source": [
    "L = 12\n",
    "d = 768\n",
    "d_ff = 4 * d\n",
    "h = 8\n",
    "V = dataset.get_vocab_size()\n",
    "model = GPT(B, L, d, d_ff, N, h, V)"
   ]
  },
  {
   "cell_type": "code",
   "execution_count": 4,
   "metadata": {},
   "outputs": [
    {
     "name": "stdout",
     "output_type": "stream",
     "text": [
      "GPT(\n",
      "  (WTE): Embedding(65, 768)\n",
      "  (WPE): WPE()\n",
      "  (blocks): ModuleList(\n",
      "    (0-11): 12 x Block(\n",
      "      (CausalSelfAttn): CausalSelfAttention(\n",
      "        (W_Q): Linear(in_features=768, out_features=768, bias=True)\n",
      "        (W_K): Linear(in_features=768, out_features=768, bias=True)\n",
      "        (W_V): Linear(in_features=768, out_features=768, bias=True)\n",
      "        (W_O): Linear(in_features=768, out_features=768, bias=True)\n",
      "      )\n",
      "      (W1): Linear(in_features=768, out_features=3072, bias=True)\n",
      "      (W2): Linear(in_features=3072, out_features=768, bias=True)\n",
      "      (LayerNorm1): LayerNorm((768,), eps=1e-05, elementwise_affine=True)\n",
      "      (LayerNorm2): LayerNorm((768,), eps=1e-05, elementwise_affine=True)\n",
      "    )\n",
      "  )\n",
      "  (Dropout): Dropout(p=0.2, inplace=False)\n",
      "  (Final_LayerNorm): LayerNorm((768,), eps=1e-05, elementwise_affine=True)\n",
      "  (LM_Head): Linear(in_features=768, out_features=65, bias=True)\n",
      ")\n"
     ]
    }
   ],
   "source": [
    "cpkt = torch.load(\"./runs/fat_model/model_6200.pt\", map_location=torch.device('cpu'))\n",
    "model.load_state_dict(cpkt)\n",
    "print(model)"
   ]
  },
  {
   "cell_type": "code",
   "execution_count": 5,
   "metadata": {},
   "outputs": [
    {
     "name": "stderr",
     "output_type": "stream",
     "text": [
      "/home/gordon/Documents/edu/gordon_ms/Sem3/DeepLearning/Shakespeak/utils.py:118: UserWarning: To copy construct from a tensor, it is recommended to use sourceTensor.clone().detach() or sourceTensor.clone().detach().requires_grad_(True), rather than torch.tensor(sourceTensor).\n",
      "  new_c = torch.tensor(char_id).reshape(shape=(1, 1))\n"
     ]
    },
    {
     "name": "stdout",
     "output_type": "stream",
     "text": [
      "Hello World Direclian.\n",
      "\n",
      "PageIX:\n",
      "Ay, good riss.\n",
      "\n",
      "DUKE VINCENTIO:\n",
      "O, his is bounteous vows the people, and\n",
      "hour t\n"
     ]
    }
   ],
   "source": [
    "new_tokens = generate(model, dataset.encode(\"Hello World\"), 100)\n",
    "print(dataset.decode(new_tokens))"
   ]
  },
  {
   "cell_type": "code",
   "execution_count": 6,
   "metadata": {},
   "outputs": [],
   "source": [
    "B = 12\n",
    "N = 64  # context of up to 256 previous characters\n",
    "L = 4\n",
    "h = 4\n",
    "d = 128\n",
    "learning_rate = 1e-3\n",
    "use_lr_decay = False\n",
    "dataset = './datasets/shakespear_corpus.txt'\n",
    "out_dir = './runs/'\n",
    "\n",
    "max_iterations = 1000\n",
    "\n",
    "class Args(argparse.Namespace):\n",
    "  batch_size:int = B\n",
    "  n_tokens:int = N\n",
    "  n_layers:int = L\n",
    "  n_heads:int = h\n",
    "  d_model:int = d\n",
    "  use_lr_decay:bool = use_lr_decay\n",
    "  learning_rate: float = learning_rate\n",
    "  dataset: str = dataset\n",
    "  max_iterations: int = max_iterations\n",
    "  out: str = out_dir"
   ]
  },
  {
   "cell_type": "code",
   "execution_count": null,
   "metadata": {},
   "outputs": [],
   "source": [
    "model, losses, perplexities = train_model(Args())"
   ]
  },
  {
   "cell_type": "code",
   "execution_count": null,
   "metadata": {},
   "outputs": [],
   "source": []
  }
 ],
 "metadata": {
  "kernelspec": {
   "display_name": "dl",
   "language": "python",
   "name": "python3"
  },
  "language_info": {
   "codemirror_mode": {
    "name": "ipython",
    "version": 3
   },
   "file_extension": ".py",
   "mimetype": "text/x-python",
   "name": "python",
   "nbconvert_exporter": "python",
   "pygments_lexer": "ipython3",
   "version": "3.11.5"
  }
 },
 "nbformat": 4,
 "nbformat_minor": 2
}
