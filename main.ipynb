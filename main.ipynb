{
 "cells": [
  {
   "cell_type": "code",
   "execution_count": 1,
   "metadata": {},
   "outputs": [
    {
     "name": "stdout",
     "output_type": "stream",
     "text": [
      "Args(batch_size=10, n_tokens=64, n_layers=4, n_heads=4, d_model=128, use_lr_decay=True, lr=0.001, dataset_path='./datasets/shakespear_corpus.txt', max_iter=100, out_dir=None, n_warm_iters=100, lr_decay_iter=5000, min_lr=0.0001, n_validation_batch=200, betas=(0.9, 0.99), n_epochs=10, val_int=100)\n",
      "Epoch: 0, Batch 99, Training Loss: 2.5976, Validation Loss: 2.5998\n",
      "Oh God Oh God !\n",
      "O:\n",
      "fith ove harnghishe th ham, beind,he.\n",
      "Sorsfert\n"
     ]
    },
    {
     "name": "stderr",
     "output_type": "stream",
     "text": [
      "/home/gordon/Documents/edu/gordon_ms/Sem3/DeepLearning/Shakespeak/utils.py:270: UserWarning: To copy construct from a tensor, it is recommended to use sourceTensor.clone().detach() or sourceTensor.clone().detach().requires_grad_(True), rather than torch.tensor(sourceTensor).\n",
      "  new_c = torch.tensor(char_id).reshape(shape=(1, 1))\n"
     ]
    }
   ],
   "source": [
    "import torch\n",
    "import argparse\n",
    "from model import GPT\n",
    "from utils import generate\n",
    "from utils import getLoaderDataset\n",
    "from utils import Args\n",
    "from train import Training\n",
    "\n",
    "args = Args()\n",
    "print(args)\n",
    "train = Training(args)\n",
    "model, metrics = train.train_model()\n",
    "print(train.tokenized_data.decode(\n",
    "    generate(model, train.tokenized_data.encode(\"Oh God Oh God !\"), 50)\n",
    "))"
   ]
  },
  {
   "cell_type": "code",
   "execution_count": 14,
   "metadata": {},
   "outputs": [],
   "source": [
    "N = 64\n",
    "B = 12\n",
    "loader, dataset = getLoaderDataset(N, B, \"./datasets/shakespear_corpus.txt\")"
   ]
  },
  {
   "cell_type": "code",
   "execution_count": 15,
   "metadata": {},
   "outputs": [
    {
     "name": "stdout",
     "output_type": "stream",
     "text": [
      "1003853 64\n",
      "1003853 64\n",
      "1003853 64\n",
      "1003789\n"
     ]
    }
   ],
   "source": [
    "N = 64\n",
    "B = 12\n",
    "loader, token_dataset = getLoaderDataset(N, B, \"./datasets/shakespear_corpus.txt\")\n",
    "print(len(token_dataset))"
   ]
  },
  {
   "cell_type": "code",
   "execution_count": 16,
   "metadata": {},
   "outputs": [
    {
     "name": "stdout",
     "output_type": "stream",
     "text": [
      "65\n"
     ]
    }
   ],
   "source": [
    "L = 12\n",
    "d = 768\n",
    "d_ff = 4 * d\n",
    "h = 8\n",
    "V = dataset.get_vocab_size()\n",
    "print(V)\n",
    "model = GPT(B, L, d, d_ff, N, h, V)"
   ]
  },
  {
   "cell_type": "code",
   "execution_count": 18,
   "metadata": {},
   "outputs": [
    {
     "name": "stderr",
     "output_type": "stream",
     "text": [
      "g:\\UNIGE\\Master\\semestre3\\DL\\Shakespeak\\utils.py:117: UserWarning: To copy construct from a tensor, it is recommended to use sourceTensor.clone().detach() or sourceTensor.clone().detach().requires_grad_(True), rather than torch.tensor(sourceTensor).\n",
      "  new_c = torch.tensor(char_id).reshape(shape=(1, 1))\n"
     ]
    },
    {
     "name": "stdout",
     "output_type": "stream",
     "text": [
      "Hello World?3F?HoaVVnlRXNevkWXD$DQQmSnmg'G$-l.ghTYo:Yp$zwBck;TEMZmQu\n",
      "I$rRPyhL:UxUH-!EaSJ:eYpTxAp$?gbdAFD'lZIlCt:ooB;RgdR-xOOAoDSQmFD!ipx;KOyp'OBCypo$CQMrV:D\n",
      "QWnQeZqjq3PlHEE;,aopPNK;LnfR-srrpPRcmoSrYv?S,bR!B;o!Yut&;Va:&j:GWnI!PmerO$- OA-DbtR;Cr:Q;t:ST-yh;r'uQ!u\n",
      "CZIktHbebvF&A!W!phFUEbdFb Yd-eU.PolnzX,ZoCkiAF'eC&\n"
     ]
    }
   ],
   "source": [
    "new_tokens = generate(model, dataset.encode(\"Hello World\"), 100)\n",
    "print(dataset.decode(new_tokens))"
   ]
  },
  {
   "cell_type": "code",
   "execution_count": 19,
   "metadata": {},
   "outputs": [],
   "source": [
    "N = 64\n",
    "B = 12\n",
    "L = 6\n",
    "d = 128\n",
    "d_ff = 4 * d\n",
    "h = 6\n",
    "V = dataset.get_vocab_size()"
   ]
  },
  {
   "cell_type": "code",
   "execution_count": 20,
   "metadata": {},
   "outputs": [],
   "source": [
    "B = 12\n",
    "N = 64  # context of up to 256 previous characters\n",
    "L = 4\n",
    "h = 4\n",
    "d = 128\n",
    "learning_rate = 1e-3\n",
    "use_lr_decay = False\n",
    "dataset = './datasets/shakespear_corpus.txt'\n",
    "out_dir = './runs/'\n",
    "\n",
    "max_iterations = 1000\n",
    "\n",
    "class Args(argparse.Namespace):\n",
    "  batch_size:int = B\n",
    "  n_tokens:int = N\n",
    "  n_layers:int = L\n",
    "  n_heads:int = h\n",
    "  d_model:int = d\n",
    "  use_lr_decay:bool = use_lr_decay\n",
    "  learning_rate: float = learning_rate\n",
    "  dataset: str = dataset\n",
    "  max_iterations: int = max_iterations\n",
    "  out: str = out_dir"
   ]
  },
  {
   "cell_type": "code",
   "execution_count": 21,
   "metadata": {},
   "outputs": [
    {
     "name": "stdout",
     "output_type": "stream",
     "text": [
      "Epoch: 0, Batch 0, Training Loss: 4.384722709655762, Validation Loss: 3.8333680629730225\n",
      "Epoch: 0, Batch 100, Training Loss: 2.5321156978607178, Validation Loss: 2.51357102394104\n",
      "Epoch: 0, Batch 200, Training Loss: 2.4268581867218018, Validation Loss: 2.4498956203460693\n",
      "Epoch: 0, Batch 300, Training Loss: 2.4488275051116943, Validation Loss: 2.4172563552856445\n",
      "Epoch: 0, Batch 400, Training Loss: 2.3177144527435303, Validation Loss: 2.401048183441162\n",
      "Epoch: 0, Batch 500, Training Loss: 2.3204779624938965, Validation Loss: 2.3659324645996094\n",
      "Epoch: 0, Batch 600, Training Loss: 2.3063247203826904, Validation Loss: 2.355569362640381\n",
      "Epoch: 0, Batch 700, Training Loss: 2.3215842247009277, Validation Loss: 2.3091347217559814\n",
      "Epoch: 0, Batch 800, Training Loss: 2.226759195327759, Validation Loss: 2.280331611633301\n",
      "Epoch: 0, Batch 900, Training Loss: 2.1501405239105225, Validation Loss: 2.2469465732574463\n",
      "Epoch: 0, Batch 1000, Training Loss: 2.083970785140991, Validation Loss: 2.193633794784546\n"
     ]
    }
   ],
   "source": [
    "model, losses, perplexities = train_model(Args())"
   ]
  },
  {
   "cell_type": "code",
   "execution_count": 22,
   "metadata": {},
   "outputs": [
    {
     "name": "stdout",
     "output_type": "stream",
     "text": [
      "GPT(\n",
      "  (WTE): Embedding(65, 128)\n",
      "  (WPE): WPE()\n",
      "  (blocks): ModuleList(\n",
      "    (0-3): 4 x Block(\n",
      "      (CausalSelfAttn): CausalSelfAttention(\n",
      "        (W_Q): Linear(in_features=128, out_features=128, bias=True)\n",
      "        (W_K): Linear(in_features=128, out_features=128, bias=True)\n",
      "        (W_V): Linear(in_features=128, out_features=128, bias=True)\n",
      "        (W_O): Linear(in_features=128, out_features=128, bias=True)\n",
      "      )\n",
      "      (W1): Linear(in_features=128, out_features=384, bias=True)\n",
      "      (W2): Linear(in_features=384, out_features=128, bias=True)\n",
      "      (LayerNorm1): LayerNorm((128,), eps=1e-05, elementwise_affine=True)\n",
      "      (LayerNorm2): LayerNorm((128,), eps=1e-05, elementwise_affine=True)\n",
      "    )\n",
      "  )\n",
      "  (Dropout): Dropout(p=0.2, inplace=False)\n",
      "  (Final_LayerNorm): LayerNorm((128,), eps=1e-05, elementwise_affine=True)\n",
      "  (LM_Head): Linear(in_features=128, out_features=65, bias=True)\n",
      ")\n"
     ]
    }
   ],
   "source": [
    "import torch\n",
    "\n",
    "B = 12\n",
    "N = 64  # context of up to 256 previous characters\n",
    "L = 4\n",
    "h = 4\n",
    "d = 128\n",
    "learning_rate = 1e-3\n",
    "betas = (0.9, 0.99)\n",
    "eps = 10e-9\n",
    "n_warmup_iterations = 100\n",
    "learning_rate_decay_iterations = 5000\n",
    "min_learning_rate = 1e-4\n",
    "use_lr_decay = True\n",
    "loader, dataset = getLoaderDataset(N, B, \"./datasets/shakespear_corpus.txt\")\n",
    "\n",
    "model = GPT(B, L, d, 3*d, N, h, V)\n",
    "\n",
    "cpkt = torch.load(\"./runs/model_10000.pt\", map_location=torch.device('cpu'))\n",
    "model.load_state_dict(cpkt)\n",
    "print(model)"
   ]
  },
  {
   "cell_type": "code",
   "execution_count": 23,
   "metadata": {},
   "outputs": [
    {
     "name": "stdout",
     "output_type": "stream",
     "text": [
      "Hello World?\n",
      "\n",
      "SICINIUS:\n",
      "Nay, Verona?\n",
      "\n",
      "Clown:\n",
      "Why, be the reading, sir: and's my heard not ne hurt.\n",
      "\n",
      "Is mand let hoough me, cusin, ums ndemig blie, lgarly hat, ond mand I mingusilt.\n",
      "Med y frt, wiolld o'thiend ise, mifffe s\n",
      "Hendimfacest?\n",
      "En,\n",
      "'dis, tishandantatit?\n",
      "Ris gumat Con, h foullond d s Ind ddatin pe mansi\n"
     ]
    }
   ],
   "source": [
    "from utils import generate\n",
    "\n",
    "new_tokens = generate(model, dataset.encode(\"Hello World\"), 300)\n",
    "print(dataset.decode(new_tokens))"
   ]
  }
 ],
 "metadata": {
  "kernelspec": {
   "display_name": "dl",
   "language": "python",
   "name": "python3"
  },
  "language_info": {
   "codemirror_mode": {
    "name": "ipython",
    "version": 3
   },
   "file_extension": ".py",
   "mimetype": "text/x-python",
   "name": "python",
   "nbconvert_exporter": "python",
   "pygments_lexer": "ipython3",
   "version": "3.11.5"
  }
 },
 "nbformat": 4,
 "nbformat_minor": 2
}
