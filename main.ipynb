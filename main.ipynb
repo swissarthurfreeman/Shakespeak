{
 "cells": [
  {
   "cell_type": "code",
   "execution_count": 1,
   "metadata": {},
   "outputs": [],
   "source": [
    "import torch.nn as nn\n",
    "import torch"
   ]
  },
  {
   "cell_type": "code",
   "execution_count": 11,
   "metadata": {},
   "outputs": [
    {
     "name": "stdout",
     "output_type": "stream",
     "text": [
      "torch.Size([10, 8, 128, 300])\n",
      "torch.Size([10, 8, 128, 300])\n",
      "torch.Size([10, 8, 128, 320])\n"
     ]
    }
   ],
   "source": [
    "B, N, d = 10, 128, 256\n",
    "d_k, d_v = 300, 320\n",
    "h = 8\n",
    "\n",
    "X = torch.ones(size=(B, N, d))\n",
    "W_Q = torch.ones(size=(h, d, d_k))\n",
    "W_K = torch.ones(size=(h, d, d_k))\n",
    "W_V = torch.ones(size=(h, d, d_v))\n",
    "\n",
    "Q = torch.einsum('bik,hkj->bhij', X, W_Q)\n",
    "print(Q.size())\n",
    "\n",
    "K = torch.einsum('bik,hkj->bhij', X, W_K)\n",
    "print(K.size())\n",
    "\n",
    "V = torch.einsum('bik,hkj->bhij', X, W_V)\n",
    "print(V.size())"
   ]
  },
  {
   "cell_type": "code",
   "execution_count": 12,
   "metadata": {},
   "outputs": [
    {
     "name": "stdout",
     "output_type": "stream",
     "text": [
      "torch.Size([10, 8, 128, 128])\n"
     ]
    }
   ],
   "source": [
    "QKT = torch.einsum('bhik,bhkj->bhij', Q, torch.transpose(K, 2, 3))\n",
    "print(QKT.size())"
   ]
  },
  {
   "cell_type": "code",
   "execution_count": 17,
   "metadata": {},
   "outputs": [
    {
     "name": "stdout",
     "output_type": "stream",
     "text": [
      "tensor([1., 1., 1., 1., 1., 1., 1., 1., 1., 1., 1., 1., 1., 1., 1., 1., 1., 1.,\n",
      "        1., 1., 1., 1., 1., 1., 1., 1., 1., 1., 1., 1., 1., 1., 1., 1., 1., 1.,\n",
      "        1., 1., 1., 1., 1., 1., 1., 1., 1., 1., 1., 1., 1., 1., 1., 1., 1., 1.,\n",
      "        1., 1., 1., 1., 1., 1., 1., 1., 1., 1., 1., 1., 1., 1., 1., 1., 1., 1.,\n",
      "        1., 1., 1., 1., 1., 1., 1., 1., 1., 1., 1., 1., 1., 1., 1., 1., 1., 1.,\n",
      "        1., 1., 1., 1., 1., 1., 1., 1., 1., 1., 1., 1., 1., 1., 1., 1., 1., 1.,\n",
      "        1., 1., 1., 1., 1., 1., 1., 1., 1., 1., 1., 1., 1., 1., 1., 1., 1., 1.,\n",
      "        1., 1.])\n"
     ]
    }
   ],
   "source": [
    "sm = nn.Softmax(dim=2)\n",
    "A = sm(QKT)\n",
    "\n",
    "print(A[0,0,:,:].sum(dim=1))    # they're indeed probability distributions"
   ]
  },
  {
   "cell_type": "code",
   "execution_count": 20,
   "metadata": {},
   "outputs": [
    {
     "name": "stdout",
     "output_type": "stream",
     "text": [
      "torch.Size([10, 8, 128, 320])\n"
     ]
    }
   ],
   "source": [
    "V = torch.einsum('bik,hkj->bhij', X, W_V)\n",
    "print(V.size())"
   ]
  },
  {
   "cell_type": "code",
   "execution_count": 22,
   "metadata": {},
   "outputs": [],
   "source": [
    "AV = torch.einsum('bhik,bhkj->bhij', A, V)\n",
    "print(AV.size())"
   ]
  },
  {
   "cell_type": "code",
   "execution_count": null,
   "metadata": {},
   "outputs": [],
   "source": []
  }
 ],
 "metadata": {
  "kernelspec": {
   "display_name": "dl",
   "language": "python",
   "name": "python3"
  },
  "language_info": {
   "codemirror_mode": {
    "name": "ipython",
    "version": 3
   },
   "file_extension": ".py",
   "mimetype": "text/x-python",
   "name": "python",
   "nbconvert_exporter": "python",
   "pygments_lexer": "ipython3",
   "version": "3.11.5"
  }
 },
 "nbformat": 4,
 "nbformat_minor": 2
}
