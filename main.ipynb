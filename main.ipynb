{
 "cells": [
  {
   "cell_type": "code",
   "execution_count": 7,
   "metadata": {},
   "outputs": [],
   "source": [
    "from utils import getLoaderDataset\n",
    "from model import GPT\n",
    "from train import train_model\n",
    "import torch\n",
    "from utils import generate\n",
    "from model import GPT\n",
    "import argparse\n"
   ]
  },
  {
   "cell_type": "code",
   "execution_count": 8,
   "metadata": {},
   "outputs": [],
   "source": [
    "N = 64\n",
    "B = 12\n",
    "loader, dataset = getLoaderDataset(N, B, \"./datasets/shakespear_corpus.txt\")"
   ]
  },
  {
   "cell_type": "code",
   "execution_count": 9,
   "metadata": {},
   "outputs": [
    {
     "name": "stdout",
     "output_type": "stream",
     "text": [
      "1003789\n"
     ]
    }
   ],
   "source": [
    "print(len(dataset))"
   ]
  },
  {
   "cell_type": "code",
   "execution_count": 11,
   "metadata": {},
   "outputs": [],
   "source": [
    "L = 12\n",
    "d = 768\n",
    "d_ff = 4 * d\n",
    "h = 8\n",
    "V = dataset.get_vocab_size()\n",
    "model = GPT(B, L, d, d_ff, N, h, V)"
   ]
  },
  {
   "cell_type": "code",
   "execution_count": null,
   "metadata": {},
   "outputs": [],
   "source": [
    "cpkt = torch.load(\"./runs/fat_model/model_6200.pt\", map_location=torch.device('cpu'))\n",
    "model.load_state_dict(cpkt)\n",
    "print(model)"
   ]
  },
  {
   "cell_type": "code",
   "execution_count": null,
   "metadata": {},
   "outputs": [],
   "source": [
    "new_tokens = generate(model, dataset.encode(\"Hello World\"), 300)\n",
    "print(dataset.decode(new_tokens))"
   ]
  },
  {
   "cell_type": "code",
   "execution_count": 15,
   "metadata": {},
   "outputs": [],
   "source": [
    "N = 64\n",
    "B = 12\n",
    "L = 6\n",
    "d = 128\n",
    "d_ff = 4 * d\n",
    "h = 6\n",
    "V = dataset.get_vocab_size()"
   ]
  },
  {
   "cell_type": "code",
   "execution_count": 4,
   "metadata": {},
   "outputs": [],
   "source": [
    "B = 12\n",
    "N = 64  # context of up to 256 previous characters\n",
    "L = 4\n",
    "h = 4\n",
    "d = 128\n",
    "learning_rate = 1e-3\n",
    "use_lr_decay = False\n",
    "dataset = './datasets/shakespear_corpus.txt'\n",
    "out_dir = './runs/'\n",
    "\n",
    "max_iterations = 1000\n",
    "\n",
    "\n",
    "\n",
    "class Args(argparse.Namespace):\n",
    "  batch_size:int = B\n",
    "  n_tokens:int = N\n",
    "  n_layers:int = L\n",
    "  n_heads:int = h\n",
    "  d_model:int = d\n",
    "  use_lr_decay:bool = use_lr_decay\n",
    "  learning_rate: float = learning_rate\n",
    "  dataset: str = dataset\n",
    "  max_iterations: int = max_iterations\n",
    "  out: str = out_dir"
   ]
  },
  {
   "cell_type": "code",
   "execution_count": 6,
   "metadata": {},
   "outputs": [
    {
     "name": "stdout",
     "output_type": "stream",
     "text": [
      "Epoch: 0, Batch 0, Training Loss: 4.387592792510986, Validation Loss: 3.8362371921539307\n",
      "Epoch: 0, Batch 100, Training Loss: 2.5307981967926025, Validation Loss: 2.5348145961761475\n",
      "Epoch: 0, Batch 200, Training Loss: 2.469670295715332, Validation Loss: 2.4643588066101074\n",
      "Epoch: 0, Batch 300, Training Loss: 2.389496088027954, Validation Loss: 2.411836862564087\n",
      "Epoch: 0, Batch 400, Training Loss: 2.4696075916290283, Validation Loss: 2.3877906799316406\n",
      "Epoch: 0, Batch 500, Training Loss: 2.3984341621398926, Validation Loss: 2.360142946243286\n",
      "Epoch: 0, Batch 600, Training Loss: 2.4015376567840576, Validation Loss: 2.3557770252227783\n",
      "Epoch: 0, Batch 700, Training Loss: 2.2498743534088135, Validation Loss: 2.3132262229919434\n",
      "Epoch: 0, Batch 800, Training Loss: 2.3662326335906982, Validation Loss: 2.274087429046631\n",
      "Epoch: 0, Batch 900, Training Loss: 2.26304030418396, Validation Loss: 2.2421374320983887\n",
      "Epoch: 0, Batch 1000, Training Loss: 2.1270015239715576, Validation Loss: 2.2095701694488525\n"
     ]
    }
   ],
   "source": [
    "model, losses, perplexities = train_model(Args())"
   ]
  },
  {
   "cell_type": "code",
   "execution_count": null,
   "metadata": {},
   "outputs": [],
   "source": [
    "import torch\n",
    "\n",
    "B = 12\n",
    "N = 64  # context of up to 256 previous characters\n",
    "L = 4\n",
    "h = 4\n",
    "d = 128\n",
    "learning_rate = 1e-3\n",
    "betas = (0.9, 0.99)\n",
    "eps = 10e-9\n",
    "n_warmup_iterations = 100\n",
    "learning_rate_decay_iterations = 5000\n",
    "min_learning_rate = 1e-4\n",
    "use_lr_decay = True\n",
    "dataset = './datasets/shakespear_corpus.txt'\n",
    "\n",
    "model = GPT(B, L, d, 3*d, N, h, V)\n",
    "\n",
    "cpkt = torch.load(\"./runs/model_2000.pt\", map_location=torch.device('cpu'))\n",
    "model.load_state_dict(cpkt)\n",
    "print(model)"
   ]
  },
  {
   "cell_type": "code",
   "execution_count": null,
   "metadata": {},
   "outputs": [],
   "source": [
    "from utils import generate\n",
    "\n",
    "new_tokens = generate(model, dataset.encode(\"Hello World\"), 300)\n",
    "print(dataset.decode(new_tokens))"
   ]
  }
 ],
 "metadata": {
  "kernelspec": {
   "display_name": "dl",
   "language": "python",
   "name": "python3"
  },
  "language_info": {
   "codemirror_mode": {
    "name": "ipython",
    "version": 3
   },
   "file_extension": ".py",
   "mimetype": "text/x-python",
   "name": "python",
   "nbconvert_exporter": "python",
   "pygments_lexer": "ipython3",
   "version": "3.11.4"
  }
 },
 "nbformat": 4,
 "nbformat_minor": 2
}
