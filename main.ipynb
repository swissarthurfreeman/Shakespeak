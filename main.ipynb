{
 "cells": [
  {
   "cell_type": "code",
   "execution_count": 1,
   "metadata": {},
   "outputs": [
    {
     "name": "stdout",
     "output_type": "stream",
     "text": [
      "torch.Size([64, 64])\n"
     ]
    }
   ],
   "source": [
    "from train_model import train_model\n",
    "\n",
    "N_EPOCHS = 2\n",
    "N_TOKENS = 64  # N\n",
    "N_LAYERS = 6  # L\n",
    "N_HEADS = 4  # h\n",
    "N_WORKERS = 2\n",
    "BATCH_SIZE = N_TOKENS  # B\n",
    "D_MODEL = 200  # d\n",
    "D_K = 32\n",
    "D_V = D_K\n",
    "D_FF = 512\n",
    "RAW_DATA_PATH = './datasets/shakespear_corpus.txt'\n",
    "\n",
    "trained_mod = train_model(N_EPOCHS, N_TOKENS, N_LAYERS, N_HEADS, BATCH_SIZE, D_MODEL, D_K, D_V, D_FF)"
   ]
  },
  {
   "cell_type": "code",
   "execution_count": null,
   "metadata": {},
   "outputs": [],
   "source": [
    "from train_model import load_data\n",
    "from parsing.CharDataSet import CharDataSet\n",
    "from torch.utils.data.dataloader import DataLoader\n",
    "\n",
    "raw_data = load_data(RAW_DATA_PATH)\n",
    "\n",
    "tokenized_data = CharDataSet(N_TOKENS, raw_data)\n",
    "data_loader = DataLoader(\n",
    "    tokenized_data,\n",
    "    shuffle=False,\n",
    "    batch_size=BATCH_SIZE,\n",
    "    num_workers=N_WORKERS,\n",
    ")\n",
    "\n",
    "seed = \"O God, O God!\"\n",
    "idx = tokenized_data.encode(seed)"
   ]
  },
  {
   "cell_type": "code",
   "execution_count": null,
   "metadata": {},
   "outputs": [],
   "source": [
    "new_tokens = trained_mod.generate(idx, n_new_tokens=50)"
   ]
  },
  {
   "cell_type": "code",
   "execution_count": null,
   "metadata": {},
   "outputs": [],
   "source": [
    "print(tokenized_data.decode(new_tokens))"
   ]
  },
  {
   "cell_type": "code",
   "execution_count": null,
   "metadata": {},
   "outputs": [],
   "source": [
    "for param in trained_mod.transformer.blocks[0].FFN.L1.parameters():\n",
    "    print(param)"
   ]
  },
  {
   "cell_type": "code",
   "execution_count": null,
   "metadata": {},
   "outputs": [],
   "source": [
    "for name, param in trained_mod.transformer.blocks[0].CausalSelfAttn.named_parameters():\n",
    "    print(name, param)"
   ]
  },
  {
   "cell_type": "code",
   "execution_count": null,
   "metadata": {},
   "outputs": [],
   "source": []
  }
 ],
 "metadata": {
  "kernelspec": {
   "display_name": "dl",
   "language": "python",
   "name": "python3"
  },
  "language_info": {
   "codemirror_mode": {
    "name": "ipython",
    "version": 3
   },
   "file_extension": ".py",
   "mimetype": "text/x-python",
   "name": "python",
   "nbconvert_exporter": "python",
   "pygments_lexer": "ipython3",
   "version": "3.11.5"
  }
 },
 "nbformat": 4,
 "nbformat_minor": 2
}
